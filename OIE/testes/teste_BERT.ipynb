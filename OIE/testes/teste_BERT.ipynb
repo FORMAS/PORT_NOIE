{
 "cells": [
  {
   "cell_type": "code",
   "execution_count": 41,
   "outputs": [
    {
     "name": "stdout",
     "output_type": "stream",
     "text": [
      "[]\n"
     ]
    },
    {
     "ename": "ValueError",
     "evalue": "Found input variables with inconsistent numbers of samples: [0, 769]",
     "output_type": "error",
     "traceback": [
      "\u001B[1;31m---------------------------------------------------------------------------\u001B[0m",
      "\u001B[1;31mValueError\u001B[0m                                Traceback (most recent call last)",
      "Cell \u001B[1;32mIn[41], line 33\u001B[0m\n\u001B[0;32m     28\u001B[0m     \u001B[38;5;28;01mreturn\u001B[39;00m df\n\u001B[0;32m     30\u001B[0m \u001B[38;5;66;03m#\u001B[39;00m\n\u001B[0;32m     31\u001B[0m \u001B[38;5;66;03m# Local (metrics per class)\u001B[39;00m\n\u001B[0;32m     32\u001B[0m \u001B[38;5;66;03m#\u001B[39;00m\n\u001B[1;32m---> 33\u001B[0m df \u001B[38;5;241m=\u001B[39m \u001B[43mget_confusion_matrix\u001B[49m\u001B[43m(\u001B[49m\u001B[43my_true\u001B[49m\u001B[43m,\u001B[49m\u001B[43m \u001B[49m\u001B[43my_pred\u001B[49m\u001B[43m)\u001B[49m\n\u001B[0;32m     35\u001B[0m labels \u001B[38;5;241m=\u001B[39m \u001B[38;5;28mlist\u001B[39m(\u001B[38;5;28mset\u001B[39m(y_true))\n\u001B[0;32m     36\u001B[0m tps \u001B[38;5;241m=\u001B[39m {}\n",
      "Cell \u001B[1;32mIn[41], line 22\u001B[0m, in \u001B[0;36mget_confusion_matrix\u001B[1;34m(y_true, y_pred)\u001B[0m\n\u001B[0;32m     19\u001B[0m \u001B[38;5;28;01mdef\u001B[39;00m \u001B[38;5;21mget_confusion_matrix\u001B[39m(y_true, y_pred):\n\u001B[0;32m     20\u001B[0m     labels \u001B[38;5;241m=\u001B[39m \u001B[38;5;28mlist\u001B[39m(\u001B[38;5;28mset\u001B[39m(y_true))\n\u001B[0;32m     21\u001B[0m     df \u001B[38;5;241m=\u001B[39m pd\u001B[38;5;241m.\u001B[39mDataFrame(\n\u001B[1;32m---> 22\u001B[0m         data\u001B[38;5;241m=\u001B[39m\u001B[43mconfusion_matrix\u001B[49m\u001B[43m(\u001B[49m\u001B[43my_true\u001B[49m\u001B[43m,\u001B[49m\u001B[43m \u001B[49m\u001B[43my_pred\u001B[49m\u001B[43m,\u001B[49m\u001B[43m \u001B[49m\u001B[43mlabels\u001B[49m\u001B[38;5;241;43m=\u001B[39;49m\u001B[43mlabels\u001B[49m\u001B[43m)\u001B[49m,\n\u001B[0;32m     23\u001B[0m         columns\u001B[38;5;241m=\u001B[39mlabels,\n\u001B[0;32m     24\u001B[0m         index\u001B[38;5;241m=\u001B[39mlabels,\n\u001B[0;32m     25\u001B[0m     )\n\u001B[0;32m     26\u001B[0m     df\u001B[38;5;241m.\u001B[39mindex\u001B[38;5;241m.\u001B[39mname \u001B[38;5;241m=\u001B[39m \u001B[38;5;124m\"\u001B[39m\u001B[38;5;124mY-True\u001B[39m\u001B[38;5;124m\"\u001B[39m\n\u001B[0;32m     27\u001B[0m     df\u001B[38;5;241m.\u001B[39mcolumns\u001B[38;5;241m.\u001B[39mname \u001B[38;5;241m=\u001B[39m \u001B[38;5;124m\"\u001B[39m\u001B[38;5;124mY-Pred\u001B[39m\u001B[38;5;124m\"\u001B[39m\n",
      "File \u001B[1;32mE:\\poetry\\venvs\\flair-oie-_ETNQf08-py3.9\\lib\\site-packages\\sklearn\\metrics\\_classification.py:317\u001B[0m, in \u001B[0;36mconfusion_matrix\u001B[1;34m(y_true, y_pred, labels, sample_weight, normalize)\u001B[0m\n\u001B[0;32m    232\u001B[0m \u001B[38;5;28;01mdef\u001B[39;00m \u001B[38;5;21mconfusion_matrix\u001B[39m(\n\u001B[0;32m    233\u001B[0m     y_true, y_pred, \u001B[38;5;241m*\u001B[39m, labels\u001B[38;5;241m=\u001B[39m\u001B[38;5;28;01mNone\u001B[39;00m, sample_weight\u001B[38;5;241m=\u001B[39m\u001B[38;5;28;01mNone\u001B[39;00m, normalize\u001B[38;5;241m=\u001B[39m\u001B[38;5;28;01mNone\u001B[39;00m\n\u001B[0;32m    234\u001B[0m ):\n\u001B[0;32m    235\u001B[0m \u001B[38;5;250m    \u001B[39m\u001B[38;5;124;03m\"\"\"Compute confusion matrix to evaluate the accuracy of a classification.\u001B[39;00m\n\u001B[0;32m    236\u001B[0m \n\u001B[0;32m    237\u001B[0m \u001B[38;5;124;03m    By definition a confusion matrix :math:`C` is such that :math:`C_{i, j}`\u001B[39;00m\n\u001B[1;32m   (...)\u001B[0m\n\u001B[0;32m    315\u001B[0m \u001B[38;5;124;03m    (0, 2, 1, 1)\u001B[39;00m\n\u001B[0;32m    316\u001B[0m \u001B[38;5;124;03m    \"\"\"\u001B[39;00m\n\u001B[1;32m--> 317\u001B[0m     y_type, y_true, y_pred \u001B[38;5;241m=\u001B[39m \u001B[43m_check_targets\u001B[49m\u001B[43m(\u001B[49m\u001B[43my_true\u001B[49m\u001B[43m,\u001B[49m\u001B[43m \u001B[49m\u001B[43my_pred\u001B[49m\u001B[43m)\u001B[49m\n\u001B[0;32m    318\u001B[0m     \u001B[38;5;28;01mif\u001B[39;00m y_type \u001B[38;5;129;01mnot\u001B[39;00m \u001B[38;5;129;01min\u001B[39;00m (\u001B[38;5;124m\"\u001B[39m\u001B[38;5;124mbinary\u001B[39m\u001B[38;5;124m\"\u001B[39m, \u001B[38;5;124m\"\u001B[39m\u001B[38;5;124mmulticlass\u001B[39m\u001B[38;5;124m\"\u001B[39m):\n\u001B[0;32m    319\u001B[0m         \u001B[38;5;28;01mraise\u001B[39;00m \u001B[38;5;167;01mValueError\u001B[39;00m(\u001B[38;5;124m\"\u001B[39m\u001B[38;5;132;01m%s\u001B[39;00m\u001B[38;5;124m is not supported\u001B[39m\u001B[38;5;124m\"\u001B[39m \u001B[38;5;241m%\u001B[39m y_type)\n",
      "File \u001B[1;32mE:\\poetry\\venvs\\flair-oie-_ETNQf08-py3.9\\lib\\site-packages\\sklearn\\metrics\\_classification.py:86\u001B[0m, in \u001B[0;36m_check_targets\u001B[1;34m(y_true, y_pred)\u001B[0m\n\u001B[0;32m     59\u001B[0m \u001B[38;5;28;01mdef\u001B[39;00m \u001B[38;5;21m_check_targets\u001B[39m(y_true, y_pred):\n\u001B[0;32m     60\u001B[0m \u001B[38;5;250m    \u001B[39m\u001B[38;5;124;03m\"\"\"Check that y_true and y_pred belong to the same classification task.\u001B[39;00m\n\u001B[0;32m     61\u001B[0m \n\u001B[0;32m     62\u001B[0m \u001B[38;5;124;03m    This converts multiclass or binary types to a common shape, and raises a\u001B[39;00m\n\u001B[1;32m   (...)\u001B[0m\n\u001B[0;32m     84\u001B[0m \u001B[38;5;124;03m    y_pred : array or indicator matrix\u001B[39;00m\n\u001B[0;32m     85\u001B[0m \u001B[38;5;124;03m    \"\"\"\u001B[39;00m\n\u001B[1;32m---> 86\u001B[0m     \u001B[43mcheck_consistent_length\u001B[49m\u001B[43m(\u001B[49m\u001B[43my_true\u001B[49m\u001B[43m,\u001B[49m\u001B[43m \u001B[49m\u001B[43my_pred\u001B[49m\u001B[43m)\u001B[49m\n\u001B[0;32m     87\u001B[0m     type_true \u001B[38;5;241m=\u001B[39m type_of_target(y_true, input_name\u001B[38;5;241m=\u001B[39m\u001B[38;5;124m\"\u001B[39m\u001B[38;5;124my_true\u001B[39m\u001B[38;5;124m\"\u001B[39m)\n\u001B[0;32m     88\u001B[0m     type_pred \u001B[38;5;241m=\u001B[39m type_of_target(y_pred, input_name\u001B[38;5;241m=\u001B[39m\u001B[38;5;124m\"\u001B[39m\u001B[38;5;124my_pred\u001B[39m\u001B[38;5;124m\"\u001B[39m)\n",
      "File \u001B[1;32mE:\\poetry\\venvs\\flair-oie-_ETNQf08-py3.9\\lib\\site-packages\\sklearn\\utils\\validation.py:397\u001B[0m, in \u001B[0;36mcheck_consistent_length\u001B[1;34m(*arrays)\u001B[0m\n\u001B[0;32m    395\u001B[0m uniques \u001B[38;5;241m=\u001B[39m np\u001B[38;5;241m.\u001B[39munique(lengths)\n\u001B[0;32m    396\u001B[0m \u001B[38;5;28;01mif\u001B[39;00m \u001B[38;5;28mlen\u001B[39m(uniques) \u001B[38;5;241m>\u001B[39m \u001B[38;5;241m1\u001B[39m:\n\u001B[1;32m--> 397\u001B[0m     \u001B[38;5;28;01mraise\u001B[39;00m \u001B[38;5;167;01mValueError\u001B[39;00m(\n\u001B[0;32m    398\u001B[0m         \u001B[38;5;124m\"\u001B[39m\u001B[38;5;124mFound input variables with inconsistent numbers of samples: \u001B[39m\u001B[38;5;132;01m%r\u001B[39;00m\u001B[38;5;124m\"\u001B[39m\n\u001B[0;32m    399\u001B[0m         \u001B[38;5;241m%\u001B[39m [\u001B[38;5;28mint\u001B[39m(l) \u001B[38;5;28;01mfor\u001B[39;00m l \u001B[38;5;129;01min\u001B[39;00m lengths]\n\u001B[0;32m    400\u001B[0m     )\n",
      "\u001B[1;31mValueError\u001B[0m: Found input variables with inconsistent numbers of samples: [0, 769]"
     ]
    }
   ],
   "source": [
    "import pandas as pd\n",
    "from sklearn.metrics import confusion_matrix\n",
    "\n",
    "MODEL_NAME = \"LSOIE++\"\n",
    "\n",
    "\n",
    "def get_dev_result(model_name: str):\n",
    "    model_path = \"..\\evaluations\\\\\" + model_name + \"_dev.txt\"\n",
    "    with open(model_path, \"r\", encoding=\"utf-8\") as f:\n",
    "        lines = f.readlines()\n",
    "        lines = [line.strip().split(\" \") for line in lines]\n",
    "        for line in lines:\n",
    "            print(line[1][1:])\n",
    "        y_true = [line[1][1:] for line in lines if len(line) > 0]\n",
    "        y_pred = [line[2][1:]for line in lines if len(line) > 0]\n",
    "        return y_true, y_pred\n",
    "y_true, y_pred = get_dev_result(MODEL_NAME)\n",
    "\n",
    "def get_confusion_matrix(y_true, y_pred):\n",
    "    labels = list(set(y_true))\n",
    "    df = pd.DataFrame(\n",
    "        data=confusion_matrix(y_true, y_pred, labels=labels),\n",
    "        columns=labels,\n",
    "        index=labels,\n",
    "    )\n",
    "    df.index.name = \"Y-True\"\n",
    "    df.columns.name = \"Y-Pred\"\n",
    "    return df\n",
    "\n",
    "#\n",
    "# Local (metrics per class)\n",
    "#\n",
    "df = get_confusion_matrix(y_true, y_pred)\n",
    "\n",
    "labels = list(set(y_true))\n",
    "tps = {}\n",
    "fps = {}\n",
    "fns = {}\n",
    "for label in labels:\n",
    "    tps[label] = df.loc[label, label]\n",
    "    fps[label] = df[label].sum() - tps[label]\n",
    "    fns[label] = df.loc[label].sum() - tps[label]\n",
    "\n",
    "#\n",
    "# Global\n",
    "#\n",
    "micro_averages = {}\n",
    "macro_averages = {}\n",
    "\n",
    "correct_predictions = sum(tps.values())\n",
    "\n",
    "total_predictions = df.values.sum()\n",
    "accuracy_global = round(correct_predictions / total_predictions,4 ) if total_predictions > 0. else 0.\n",
    "\n",
    "print(\"#-- Local measures --#\")\n",
    "print(\"True Positives:\", tps)\n",
    "print(\"False Positives:\", fps)\n",
    "print(\"False Negatives:\", fns)\n",
    "\n",
    "print(\"\\n#-- Global measures --#\")\n",
    "print(\"Correct predictions:\", correct_predictions)\n",
    "print(\"Total predictions:\", total_predictions)\n",
    "print(\"Accuracy:\", accuracy_global)"
   ],
   "metadata": {
    "collapsed": false
   }
  },
  {
   "cell_type": "code",
   "execution_count": 21,
   "outputs": [
    {
     "name": "stdout",
     "output_type": "stream",
     "text": [
      "              precision    recall  f1-score   support\n",
      "\n",
      "                 0.9016    0.9363    0.9187       597\n",
      "         ARG     0.7450    0.6453    0.6916       172\n",
      "\n",
      "    accuracy                         0.8713       769\n",
      "   macro avg     0.8233    0.7908    0.8051       769\n",
      "weighted avg     0.8666    0.8713    0.8679       769\n",
      "\n"
     ]
    },
    {
     "ename": "ValueError",
     "evalue": "dtype='numeric' is not compatible with arrays of bytes/strings.Convert your data to numeric values explicitly instead.",
     "output_type": "error",
     "traceback": [
      "\u001B[1;31m---------------------------------------------------------------------------\u001B[0m",
      "\u001B[1;31mValueError\u001B[0m                                Traceback (most recent call last)",
      "Cell \u001B[1;32mIn[21], line 3\u001B[0m\n\u001B[0;32m      1\u001B[0m \u001B[38;5;28;01mfrom\u001B[39;00m \u001B[38;5;21;01msklearn\u001B[39;00m\u001B[38;5;21;01m.\u001B[39;00m\u001B[38;5;21;01mmetrics\u001B[39;00m \u001B[38;5;28;01mimport\u001B[39;00m classification_report, roc_auc_score\n\u001B[0;32m      2\u001B[0m \u001B[38;5;28mprint\u001B[39m(classification_report(y_true, y_pred, digits\u001B[38;5;241m=\u001B[39m\u001B[38;5;241m4\u001B[39m))\n\u001B[1;32m----> 3\u001B[0m \u001B[43mroc_auc_score\u001B[49m\u001B[43m(\u001B[49m\u001B[43my_true\u001B[49m\u001B[43m,\u001B[49m\u001B[43m \u001B[49m\u001B[43my_pred\u001B[49m\u001B[43m)\u001B[49m\n",
      "File \u001B[1;32mE:\\poetry\\venvs\\flair-oie-_ETNQf08-py3.9\\lib\\site-packages\\sklearn\\metrics\\_ranking.py:551\u001B[0m, in \u001B[0;36mroc_auc_score\u001B[1;34m(y_true, y_score, average, sample_weight, max_fpr, multi_class, labels)\u001B[0m\n\u001B[0;32m    549\u001B[0m y_type \u001B[38;5;241m=\u001B[39m type_of_target(y_true, input_name\u001B[38;5;241m=\u001B[39m\u001B[38;5;124m\"\u001B[39m\u001B[38;5;124my_true\u001B[39m\u001B[38;5;124m\"\u001B[39m)\n\u001B[0;32m    550\u001B[0m y_true \u001B[38;5;241m=\u001B[39m check_array(y_true, ensure_2d\u001B[38;5;241m=\u001B[39m\u001B[38;5;28;01mFalse\u001B[39;00m, dtype\u001B[38;5;241m=\u001B[39m\u001B[38;5;28;01mNone\u001B[39;00m)\n\u001B[1;32m--> 551\u001B[0m y_score \u001B[38;5;241m=\u001B[39m \u001B[43mcheck_array\u001B[49m\u001B[43m(\u001B[49m\u001B[43my_score\u001B[49m\u001B[43m,\u001B[49m\u001B[43m \u001B[49m\u001B[43mensure_2d\u001B[49m\u001B[38;5;241;43m=\u001B[39;49m\u001B[38;5;28;43;01mFalse\u001B[39;49;00m\u001B[43m)\u001B[49m\n\u001B[0;32m    553\u001B[0m \u001B[38;5;28;01mif\u001B[39;00m y_type \u001B[38;5;241m==\u001B[39m \u001B[38;5;124m\"\u001B[39m\u001B[38;5;124mmulticlass\u001B[39m\u001B[38;5;124m\"\u001B[39m \u001B[38;5;129;01mor\u001B[39;00m (\n\u001B[0;32m    554\u001B[0m     y_type \u001B[38;5;241m==\u001B[39m \u001B[38;5;124m\"\u001B[39m\u001B[38;5;124mbinary\u001B[39m\u001B[38;5;124m\"\u001B[39m \u001B[38;5;129;01mand\u001B[39;00m y_score\u001B[38;5;241m.\u001B[39mndim \u001B[38;5;241m==\u001B[39m \u001B[38;5;241m2\u001B[39m \u001B[38;5;129;01mand\u001B[39;00m y_score\u001B[38;5;241m.\u001B[39mshape[\u001B[38;5;241m1\u001B[39m] \u001B[38;5;241m>\u001B[39m \u001B[38;5;241m2\u001B[39m\n\u001B[0;32m    555\u001B[0m ):\n\u001B[0;32m    556\u001B[0m     \u001B[38;5;66;03m# do not support partial ROC computation for multiclass\u001B[39;00m\n\u001B[0;32m    557\u001B[0m     \u001B[38;5;28;01mif\u001B[39;00m max_fpr \u001B[38;5;129;01mis\u001B[39;00m \u001B[38;5;129;01mnot\u001B[39;00m \u001B[38;5;28;01mNone\u001B[39;00m \u001B[38;5;129;01mand\u001B[39;00m max_fpr \u001B[38;5;241m!=\u001B[39m \u001B[38;5;241m1.0\u001B[39m:\n",
      "File \u001B[1;32mE:\\poetry\\venvs\\flair-oie-_ETNQf08-py3.9\\lib\\site-packages\\sklearn\\utils\\validation.py:910\u001B[0m, in \u001B[0;36mcheck_array\u001B[1;34m(array, accept_sparse, accept_large_sparse, dtype, order, copy, force_all_finite, ensure_2d, allow_nd, ensure_min_samples, ensure_min_features, estimator, input_name)\u001B[0m\n\u001B[0;32m    902\u001B[0m         \u001B[38;5;28;01mraise\u001B[39;00m \u001B[38;5;167;01mValueError\u001B[39;00m(\n\u001B[0;32m    903\u001B[0m             \u001B[38;5;124m\"\u001B[39m\u001B[38;5;124mExpected 2D array, got 1D array instead:\u001B[39m\u001B[38;5;130;01m\\n\u001B[39;00m\u001B[38;5;124marray=\u001B[39m\u001B[38;5;132;01m{}\u001B[39;00m\u001B[38;5;124m.\u001B[39m\u001B[38;5;130;01m\\n\u001B[39;00m\u001B[38;5;124m\"\u001B[39m\n\u001B[0;32m    904\u001B[0m             \u001B[38;5;124m\"\u001B[39m\u001B[38;5;124mReshape your data either using array.reshape(-1, 1) if \u001B[39m\u001B[38;5;124m\"\u001B[39m\n\u001B[0;32m    905\u001B[0m             \u001B[38;5;124m\"\u001B[39m\u001B[38;5;124myour data has a single feature or array.reshape(1, -1) \u001B[39m\u001B[38;5;124m\"\u001B[39m\n\u001B[0;32m    906\u001B[0m             \u001B[38;5;124m\"\u001B[39m\u001B[38;5;124mif it contains a single sample.\u001B[39m\u001B[38;5;124m\"\u001B[39m\u001B[38;5;241m.\u001B[39mformat(array)\n\u001B[0;32m    907\u001B[0m         )\n\u001B[0;32m    909\u001B[0m \u001B[38;5;28;01mif\u001B[39;00m dtype_numeric \u001B[38;5;129;01mand\u001B[39;00m array\u001B[38;5;241m.\u001B[39mdtype\u001B[38;5;241m.\u001B[39mkind \u001B[38;5;129;01min\u001B[39;00m \u001B[38;5;124m\"\u001B[39m\u001B[38;5;124mUSV\u001B[39m\u001B[38;5;124m\"\u001B[39m:\n\u001B[1;32m--> 910\u001B[0m     \u001B[38;5;28;01mraise\u001B[39;00m \u001B[38;5;167;01mValueError\u001B[39;00m(\n\u001B[0;32m    911\u001B[0m         \u001B[38;5;124m\"\u001B[39m\u001B[38;5;124mdtype=\u001B[39m\u001B[38;5;124m'\u001B[39m\u001B[38;5;124mnumeric\u001B[39m\u001B[38;5;124m'\u001B[39m\u001B[38;5;124m is not compatible with arrays of bytes/strings.\u001B[39m\u001B[38;5;124m\"\u001B[39m\n\u001B[0;32m    912\u001B[0m         \u001B[38;5;124m\"\u001B[39m\u001B[38;5;124mConvert your data to numeric values explicitly instead.\u001B[39m\u001B[38;5;124m\"\u001B[39m\n\u001B[0;32m    913\u001B[0m     )\n\u001B[0;32m    914\u001B[0m \u001B[38;5;28;01mif\u001B[39;00m \u001B[38;5;129;01mnot\u001B[39;00m allow_nd \u001B[38;5;129;01mand\u001B[39;00m array\u001B[38;5;241m.\u001B[39mndim \u001B[38;5;241m>\u001B[39m\u001B[38;5;241m=\u001B[39m \u001B[38;5;241m3\u001B[39m:\n\u001B[0;32m    915\u001B[0m     \u001B[38;5;28;01mraise\u001B[39;00m \u001B[38;5;167;01mValueError\u001B[39;00m(\n\u001B[0;32m    916\u001B[0m         \u001B[38;5;124m\"\u001B[39m\u001B[38;5;124mFound array with dim \u001B[39m\u001B[38;5;132;01m%d\u001B[39;00m\u001B[38;5;124m. \u001B[39m\u001B[38;5;132;01m%s\u001B[39;00m\u001B[38;5;124m expected <= 2.\u001B[39m\u001B[38;5;124m\"\u001B[39m\n\u001B[0;32m    917\u001B[0m         \u001B[38;5;241m%\u001B[39m (array\u001B[38;5;241m.\u001B[39mndim, estimator_name)\n\u001B[0;32m    918\u001B[0m     )\n",
      "\u001B[1;31mValueError\u001B[0m: dtype='numeric' is not compatible with arrays of bytes/strings.Convert your data to numeric values explicitly instead."
     ]
    }
   ],
   "source": [
    "from sklearn.metrics import classification_report, roc_auc_score\n",
    "print(classification_report(y_true, y_pred, digits=4))\n",
    "roc_auc_score(y_true, y_pred)"
   ],
   "metadata": {
    "collapsed": false
   }
  },
  {
   "cell_type": "code",
   "execution_count": 3,
   "outputs": [
    {
     "data": {
      "text/plain": "<pandas.io.formats.style.Styler at 0x18ca4ebcfd0>",
      "text/html": "<style type=\"text/css\">\n#T_6a680_row0_col0, #T_6a680_row2_col2, #T_6a680_row3_col1, #T_6a680_row3_col3, #T_6a680_row4_col4, #T_6a680_row5_col5, #T_6a680_row6_col6 {\n  background-color: #3f007d;\n  color: #f1f1f1;\n}\n#T_6a680_row0_col1, #T_6a680_row0_col2, #T_6a680_row0_col3, #T_6a680_row0_col4, #T_6a680_row0_col5, #T_6a680_row0_col6, #T_6a680_row1_col0, #T_6a680_row1_col2, #T_6a680_row1_col3, #T_6a680_row1_col6, #T_6a680_row2_col1, #T_6a680_row2_col3, #T_6a680_row2_col4, #T_6a680_row2_col5, #T_6a680_row2_col6, #T_6a680_row3_col0, #T_6a680_row3_col2, #T_6a680_row4_col0, #T_6a680_row4_col1, #T_6a680_row4_col2, #T_6a680_row4_col3, #T_6a680_row4_col6, #T_6a680_row5_col2, #T_6a680_row5_col3, #T_6a680_row6_col0, #T_6a680_row6_col1, #T_6a680_row6_col2, #T_6a680_row6_col3, #T_6a680_row6_col4 {\n  background-color: #fcfbfd;\n  color: #000000;\n}\n#T_6a680_row1_col1 {\n  background-color: #4d1a89;\n  color: #f1f1f1;\n}\n#T_6a680_row1_col4, #T_6a680_row3_col4 {\n  background-color: #cdcde4;\n  color: #000000;\n}\n#T_6a680_row1_col5 {\n  background-color: #faf9fc;\n  color: #000000;\n}\n#T_6a680_row2_col0 {\n  background-color: #f1eff6;\n  color: #000000;\n}\n#T_6a680_row3_col5, #T_6a680_row6_col5 {\n  background-color: #fbfafc;\n  color: #000000;\n}\n#T_6a680_row3_col6 {\n  background-color: #f2f0f7;\n  color: #000000;\n}\n#T_6a680_row4_col5 {\n  background-color: #f9f8fb;\n  color: #000000;\n}\n#T_6a680_row5_col0 {\n  background-color: #f5f3f8;\n  color: #000000;\n}\n#T_6a680_row5_col1 {\n  background-color: #c6c7e1;\n  color: #000000;\n}\n#T_6a680_row5_col4 {\n  background-color: #a7a4ce;\n  color: #f1f1f1;\n}\n#T_6a680_row5_col6 {\n  background-color: #ecebf4;\n  color: #000000;\n}\n</style>\n<table id=\"T_6a680\">\n  <thead>\n    <tr>\n      <th class=\"index_name level0\" >Y-Pred</th>\n      <th id=\"T_6a680_level0_col0\" class=\"col_heading level0 col0\" >B-ARG0</th>\n      <th id=\"T_6a680_level0_col1\" class=\"col_heading level0 col1\" >B-ARG1</th>\n      <th id=\"T_6a680_level0_col2\" class=\"col_heading level0 col2\" >I-ARG0</th>\n      <th id=\"T_6a680_level0_col3\" class=\"col_heading level0 col3\" >I-V</th>\n      <th id=\"T_6a680_level0_col4\" class=\"col_heading level0 col4\" >I-ARG1</th>\n      <th id=\"T_6a680_level0_col5\" class=\"col_heading level0 col5\" >O</th>\n      <th id=\"T_6a680_level0_col6\" class=\"col_heading level0 col6\" >B-V</th>\n    </tr>\n    <tr>\n      <th class=\"index_name level0\" >Y-True</th>\n      <th class=\"blank col0\" >&nbsp;</th>\n      <th class=\"blank col1\" >&nbsp;</th>\n      <th class=\"blank col2\" >&nbsp;</th>\n      <th class=\"blank col3\" >&nbsp;</th>\n      <th class=\"blank col4\" >&nbsp;</th>\n      <th class=\"blank col5\" >&nbsp;</th>\n      <th class=\"blank col6\" >&nbsp;</th>\n    </tr>\n  </thead>\n  <tbody>\n    <tr>\n      <th id=\"T_6a680_level0_row0\" class=\"row_heading level0 row0\" >B-ARG0</th>\n      <td id=\"T_6a680_row0_col0\" class=\"data row0 col0\" >28</td>\n      <td id=\"T_6a680_row0_col1\" class=\"data row0 col1\" >0</td>\n      <td id=\"T_6a680_row0_col2\" class=\"data row0 col2\" >0</td>\n      <td id=\"T_6a680_row0_col3\" class=\"data row0 col3\" >0</td>\n      <td id=\"T_6a680_row0_col4\" class=\"data row0 col4\" >0</td>\n      <td id=\"T_6a680_row0_col5\" class=\"data row0 col5\" >9</td>\n      <td id=\"T_6a680_row0_col6\" class=\"data row0 col6\" >0</td>\n    </tr>\n    <tr>\n      <th id=\"T_6a680_level0_row1\" class=\"row_heading level0 row1\" >B-ARG1</th>\n      <td id=\"T_6a680_row1_col0\" class=\"data row1 col0\" >0</td>\n      <td id=\"T_6a680_row1_col1\" class=\"data row1 col1\" >11</td>\n      <td id=\"T_6a680_row1_col2\" class=\"data row1 col2\" >0</td>\n      <td id=\"T_6a680_row1_col3\" class=\"data row1 col3\" >0</td>\n      <td id=\"T_6a680_row1_col4\" class=\"data row1 col4\" >8</td>\n      <td id=\"T_6a680_row1_col5\" class=\"data row1 col5\" >18</td>\n      <td id=\"T_6a680_row1_col6\" class=\"data row1 col6\" >0</td>\n    </tr>\n    <tr>\n      <th id=\"T_6a680_level0_row2\" class=\"row_heading level0 row2\" >I-ARG0</th>\n      <td id=\"T_6a680_row2_col0\" class=\"data row2 col0\" >3</td>\n      <td id=\"T_6a680_row2_col1\" class=\"data row2 col1\" >0</td>\n      <td id=\"T_6a680_row2_col2\" class=\"data row2 col2\" >35</td>\n      <td id=\"T_6a680_row2_col3\" class=\"data row2 col3\" >0</td>\n      <td id=\"T_6a680_row2_col4\" class=\"data row2 col4\" >0</td>\n      <td id=\"T_6a680_row2_col5\" class=\"data row2 col5\" >11</td>\n      <td id=\"T_6a680_row2_col6\" class=\"data row2 col6\" >0</td>\n    </tr>\n    <tr>\n      <th id=\"T_6a680_level0_row3\" class=\"row_heading level0 row3\" >I-V</th>\n      <td id=\"T_6a680_row3_col0\" class=\"data row3 col0\" >0</td>\n      <td id=\"T_6a680_row3_col1\" class=\"data row3 col1\" >12</td>\n      <td id=\"T_6a680_row3_col2\" class=\"data row3 col2\" >0</td>\n      <td id=\"T_6a680_row3_col3\" class=\"data row3 col3\" >2</td>\n      <td id=\"T_6a680_row3_col4\" class=\"data row3 col4\" >8</td>\n      <td id=\"T_6a680_row3_col5\" class=\"data row3 col5\" >16</td>\n      <td id=\"T_6a680_row3_col6\" class=\"data row3 col6\" >2</td>\n    </tr>\n    <tr>\n      <th id=\"T_6a680_level0_row4\" class=\"row_heading level0 row4\" >I-ARG1</th>\n      <td id=\"T_6a680_row4_col0\" class=\"data row4 col0\" >0</td>\n      <td id=\"T_6a680_row4_col1\" class=\"data row4 col1\" >0</td>\n      <td id=\"T_6a680_row4_col2\" class=\"data row4 col2\" >0</td>\n      <td id=\"T_6a680_row4_col3\" class=\"data row4 col3\" >0</td>\n      <td id=\"T_6a680_row4_col4\" class=\"data row4 col4\" >26</td>\n      <td id=\"T_6a680_row4_col5\" class=\"data row4 col5\" >23</td>\n      <td id=\"T_6a680_row4_col6\" class=\"data row4 col6\" >0</td>\n    </tr>\n    <tr>\n      <th id=\"T_6a680_level0_row5\" class=\"row_heading level0 row5\" >O</th>\n      <td id=\"T_6a680_row5_col0\" class=\"data row5 col0\" >2</td>\n      <td id=\"T_6a680_row5_col1\" class=\"data row5 col1\" >4</td>\n      <td id=\"T_6a680_row5_col2\" class=\"data row5 col2\" >0</td>\n      <td id=\"T_6a680_row5_col3\" class=\"data row5 col3\" >0</td>\n      <td id=\"T_6a680_row5_col4\" class=\"data row5 col4\" >12</td>\n      <td id=\"T_6a680_row5_col5\" class=\"data row5 col5\" >499</td>\n      <td id=\"T_6a680_row5_col6\" class=\"data row5 col6\" >3</td>\n    </tr>\n    <tr>\n      <th id=\"T_6a680_level0_row6\" class=\"row_heading level0 row6\" >B-V</th>\n      <td id=\"T_6a680_row6_col0\" class=\"data row6 col0\" >0</td>\n      <td id=\"T_6a680_row6_col1\" class=\"data row6 col1\" >0</td>\n      <td id=\"T_6a680_row6_col2\" class=\"data row6 col2\" >0</td>\n      <td id=\"T_6a680_row6_col3\" class=\"data row6 col3\" >0</td>\n      <td id=\"T_6a680_row6_col4\" class=\"data row6 col4\" >0</td>\n      <td id=\"T_6a680_row6_col5\" class=\"data row6 col5\" >16</td>\n      <td id=\"T_6a680_row6_col6\" class=\"data row6 col6\" >21</td>\n    </tr>\n  </tbody>\n</table>\n"
     },
     "execution_count": 3,
     "metadata": {},
     "output_type": "execute_result"
    }
   ],
   "source": [
    "df.style.background_gradient(cmap=\"Purples\")"
   ],
   "metadata": {
    "collapsed": false
   }
  }
 ],
 "metadata": {
  "kernelspec": {
   "display_name": "Python 3",
   "language": "python",
   "name": "python3"
  },
  "language_info": {
   "codemirror_mode": {
    "name": "ipython",
    "version": 2
   },
   "file_extension": ".py",
   "mimetype": "text/x-python",
   "name": "python",
   "nbconvert_exporter": "python",
   "pygments_lexer": "ipython2",
   "version": "2.7.6"
  }
 },
 "nbformat": 4,
 "nbformat_minor": 0
}
