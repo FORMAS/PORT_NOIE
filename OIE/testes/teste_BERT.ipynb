{
 "cells": [
  {
   "cell_type": "code",
   "execution_count": 2,
   "outputs": [],
   "source": [
    "import pandas as pd\n",
    "from sklearn.metrics import confusion_matrix"
   ],
   "metadata": {
    "collapsed": false
   }
  },
  {
   "cell_type": "code",
   "execution_count": 1,
   "outputs": [],
   "source": [
    "def get_dev_result(model_name: str):\n",
    "    model_path = \"..\\evaluations\\\\\" + model_name + \"_dev.txt\"\n",
    "    with open(model_path, \"r\", encoding=\"utf-8\") as f:\n",
    "        lines = f.readlines()\n",
    "        lines = [line.strip().split(\" \") for line in lines]\n",
    "        y_true = [line[1] for line in lines if len(line) == 3]\n",
    "        y_pred = [line[2] for line in lines if len(line) == 3]\n",
    "        return y_true, y_pred\n",
    "y_true, y_pred = get_dev_result(\"PTOIE_pos\")"
   ],
   "metadata": {
    "collapsed": false
   }
  },
  {
   "cell_type": "code",
   "execution_count": 3,
   "outputs": [
    {
     "data": {
      "text/plain": "<pandas.io.formats.style.Styler at 0x1b98ffc3ee0>",
      "text/html": "<style type=\"text/css\">\n#T_38887_row0_col0 {\n  background-color: #d2d2e7;\n  color: #000000;\n}\n#T_38887_row0_col1 {\n  background-color: #fbfafc;\n  color: #000000;\n}\n#T_38887_row0_col2, #T_38887_row0_col4, #T_38887_row0_col5, #T_38887_row1_col2, #T_38887_row2_col2, #T_38887_row2_col3, #T_38887_row2_col5, #T_38887_row3_col0, #T_38887_row3_col2, #T_38887_row3_col4, #T_38887_row3_col6, #T_38887_row4_col0, #T_38887_row4_col1, #T_38887_row4_col2, #T_38887_row4_col3, #T_38887_row4_col5, #T_38887_row4_col6, #T_38887_row5_col0, #T_38887_row5_col2, #T_38887_row5_col3, #T_38887_row5_col4, #T_38887_row5_col6, #T_38887_row6_col3 {\n  background-color: #fcfbfd;\n  color: #000000;\n}\n#T_38887_row0_col3 {\n  background-color: #faf8fb;\n  color: #000000;\n}\n#T_38887_row0_col6 {\n  background-color: #eae8f2;\n  color: #000000;\n}\n#T_38887_row1_col0, #T_38887_row1_col1, #T_38887_row1_col6, #T_38887_row3_col3, #T_38887_row4_col4, #T_38887_row5_col5, #T_38887_row6_col2 {\n  background-color: #3f007d;\n  color: #f1f1f1;\n}\n#T_38887_row1_col3 {\n  background-color: #e7e6f1;\n  color: #000000;\n}\n#T_38887_row1_col4 {\n  background-color: #9e9ac8;\n  color: #f1f1f1;\n}\n#T_38887_row1_col5, #T_38887_row3_col5 {\n  background-color: #ebe9f3;\n  color: #000000;\n}\n#T_38887_row2_col0 {\n  background-color: #eceaf3;\n  color: #000000;\n}\n#T_38887_row2_col1, #T_38887_row6_col5 {\n  background-color: #f7f6fa;\n  color: #000000;\n}\n#T_38887_row2_col4 {\n  background-color: #eeecf4;\n  color: #000000;\n}\n#T_38887_row2_col6 {\n  background-color: #dfdfed;\n  color: #000000;\n}\n#T_38887_row3_col1 {\n  background-color: #f8f7fa;\n  color: #000000;\n}\n#T_38887_row5_col1, #T_38887_row6_col1 {\n  background-color: #faf9fc;\n  color: #000000;\n}\n#T_38887_row6_col0 {\n  background-color: #f8f6fa;\n  color: #000000;\n}\n#T_38887_row6_col4 {\n  background-color: #f9f7fb;\n  color: #000000;\n}\n#T_38887_row6_col6 {\n  background-color: #bcbddc;\n  color: #000000;\n}\n</style>\n<table id=\"T_38887\">\n  <thead>\n    <tr>\n      <th class=\"index_name level0\" >Y-Pred</th>\n      <th id=\"T_38887_level0_col0\" class=\"col_heading level0 col0\" >I-ARG1</th>\n      <th id=\"T_38887_level0_col1\" class=\"col_heading level0 col1\" >O</th>\n      <th id=\"T_38887_level0_col2\" class=\"col_heading level0 col2\" >I-V</th>\n      <th id=\"T_38887_level0_col3\" class=\"col_heading level0 col3\" >I-ARG0</th>\n      <th id=\"T_38887_level0_col4\" class=\"col_heading level0 col4\" >B-V</th>\n      <th id=\"T_38887_level0_col5\" class=\"col_heading level0 col5\" >B-ARG0</th>\n      <th id=\"T_38887_level0_col6\" class=\"col_heading level0 col6\" >B-ARG1</th>\n    </tr>\n    <tr>\n      <th class=\"index_name level0\" >Y-True</th>\n      <th class=\"blank col0\" >&nbsp;</th>\n      <th class=\"blank col1\" >&nbsp;</th>\n      <th class=\"blank col2\" >&nbsp;</th>\n      <th class=\"blank col3\" >&nbsp;</th>\n      <th class=\"blank col4\" >&nbsp;</th>\n      <th class=\"blank col5\" >&nbsp;</th>\n      <th class=\"blank col6\" >&nbsp;</th>\n    </tr>\n  </thead>\n  <tbody>\n    <tr>\n      <th id=\"T_38887_level0_row0\" class=\"row_heading level0 row0\" >I-ARG1</th>\n      <td id=\"T_38887_row0_col0\" class=\"data row0 col0\" >25</td>\n      <td id=\"T_38887_row0_col1\" class=\"data row0 col1\" >25</td>\n      <td id=\"T_38887_row0_col2\" class=\"data row0 col2\" >0</td>\n      <td id=\"T_38887_row0_col3\" class=\"data row0 col3\" >1</td>\n      <td id=\"T_38887_row0_col4\" class=\"data row0 col4\" >0</td>\n      <td id=\"T_38887_row0_col5\" class=\"data row0 col5\" >0</td>\n      <td id=\"T_38887_row0_col6\" class=\"data row0 col6\" >5</td>\n    </tr>\n    <tr>\n      <th id=\"T_38887_level0_row1\" class=\"row_heading level0 row1\" >O</th>\n      <td id=\"T_38887_row1_col0\" class=\"data row1 col0\" >88</td>\n      <td id=\"T_38887_row1_col1\" class=\"data row1 col1\" >522</td>\n      <td id=\"T_38887_row1_col2\" class=\"data row1 col2\" >0</td>\n      <td id=\"T_38887_row1_col3\" class=\"data row1 col3\" >7</td>\n      <td id=\"T_38887_row1_col4\" class=\"data row1 col4\" >15</td>\n      <td id=\"T_38887_row1_col5\" class=\"data row1 col5\" >3</td>\n      <td id=\"T_38887_row1_col6\" class=\"data row1 col6\" >32</td>\n    </tr>\n    <tr>\n      <th id=\"T_38887_level0_row2\" class=\"row_heading level0 row2\" >I-V</th>\n      <td id=\"T_38887_row2_col0\" class=\"data row2 col0\" >13</td>\n      <td id=\"T_38887_row2_col1\" class=\"data row2 col1\" >45</td>\n      <td id=\"T_38887_row2_col2\" class=\"data row2 col2\" >0</td>\n      <td id=\"T_38887_row2_col3\" class=\"data row2 col3\" >0</td>\n      <td id=\"T_38887_row2_col4\" class=\"data row2 col4\" >4</td>\n      <td id=\"T_38887_row2_col5\" class=\"data row2 col5\" >0</td>\n      <td id=\"T_38887_row2_col6\" class=\"data row2 col6\" >7</td>\n    </tr>\n    <tr>\n      <th id=\"T_38887_level0_row3\" class=\"row_heading level0 row3\" >I-ARG0</th>\n      <td id=\"T_38887_row3_col0\" class=\"data row3 col0\" >0</td>\n      <td id=\"T_38887_row3_col1\" class=\"data row3 col1\" >41</td>\n      <td id=\"T_38887_row3_col2\" class=\"data row3 col2\" >0</td>\n      <td id=\"T_38887_row3_col3\" class=\"data row3 col3\" >40</td>\n      <td id=\"T_38887_row3_col4\" class=\"data row3 col4\" >0</td>\n      <td id=\"T_38887_row3_col5\" class=\"data row3 col5\" >3</td>\n      <td id=\"T_38887_row3_col6\" class=\"data row3 col6\" >0</td>\n    </tr>\n    <tr>\n      <th id=\"T_38887_level0_row4\" class=\"row_heading level0 row4\" >B-V</th>\n      <td id=\"T_38887_row4_col0\" class=\"data row4 col0\" >0</td>\n      <td id=\"T_38887_row4_col1\" class=\"data row4 col1\" >21</td>\n      <td id=\"T_38887_row4_col2\" class=\"data row4 col2\" >0</td>\n      <td id=\"T_38887_row4_col3\" class=\"data row4 col3\" >0</td>\n      <td id=\"T_38887_row4_col4\" class=\"data row4 col4\" >30</td>\n      <td id=\"T_38887_row4_col5\" class=\"data row4 col5\" >0</td>\n      <td id=\"T_38887_row4_col6\" class=\"data row4 col6\" >0</td>\n    </tr>\n    <tr>\n      <th id=\"T_38887_level0_row5\" class=\"row_heading level0 row5\" >B-ARG0</th>\n      <td id=\"T_38887_row5_col0\" class=\"data row5 col0\" >0</td>\n      <td id=\"T_38887_row5_col1\" class=\"data row5 col1\" >31</td>\n      <td id=\"T_38887_row5_col2\" class=\"data row5 col2\" >0</td>\n      <td id=\"T_38887_row5_col3\" class=\"data row5 col3\" >0</td>\n      <td id=\"T_38887_row5_col4\" class=\"data row5 col4\" >0</td>\n      <td id=\"T_38887_row5_col5\" class=\"data row5 col5\" >20</td>\n      <td id=\"T_38887_row5_col6\" class=\"data row5 col6\" >0</td>\n    </tr>\n    <tr>\n      <th id=\"T_38887_level0_row6\" class=\"row_heading level0 row6\" >B-ARG1</th>\n      <td id=\"T_38887_row6_col0\" class=\"data row6 col0\" >4</td>\n      <td id=\"T_38887_row6_col1\" class=\"data row6 col1\" >32</td>\n      <td id=\"T_38887_row6_col2\" class=\"data row6 col2\" >1</td>\n      <td id=\"T_38887_row6_col3\" class=\"data row6 col3\" >0</td>\n      <td id=\"T_38887_row6_col4\" class=\"data row6 col4\" >1</td>\n      <td id=\"T_38887_row6_col5\" class=\"data row6 col5\" >1</td>\n      <td id=\"T_38887_row6_col6\" class=\"data row6 col6\" >12</td>\n    </tr>\n  </tbody>\n</table>\n"
     },
     "execution_count": 3,
     "metadata": {},
     "output_type": "execute_result"
    }
   ],
   "source": [
    "def get_confusion_matrix(y_true, y_pred):\n",
    "    labels = list(set(y_true))\n",
    "    df = pd.DataFrame(\n",
    "        data=confusion_matrix(y_true, y_pred, labels=labels),\n",
    "        columns=labels,\n",
    "        index=labels,\n",
    "    )\n",
    "    df.index.name = \"Y-True\"\n",
    "    df.columns.name = \"Y-Pred\"\n",
    "    return df\n",
    "df = get_confusion_matrix(y_true, y_pred)\n",
    "df.style.background_gradient(cmap=\"Purples\")"
   ],
   "metadata": {
    "collapsed": false
   }
  },
  {
   "cell_type": "code",
   "execution_count": 4,
   "outputs": [
    {
     "name": "stdout",
     "output_type": "stream",
     "text": [
      "#-- Local measures --#\n",
      "True Positives: {'I-ARG1': 25, 'O': 522, 'I-V': 0, 'I-ARG0': 40, 'B-V': 30, 'B-ARG0': 20, 'B-ARG1': 12}\n",
      "False Positives: {'I-ARG1': 105, 'O': 195, 'I-V': 1, 'I-ARG0': 8, 'B-V': 20, 'B-ARG0': 7, 'B-ARG1': 44}\n",
      "False Negatives: {'I-ARG1': 31, 'O': 145, 'I-V': 69, 'I-ARG0': 44, 'B-V': 21, 'B-ARG0': 31, 'B-ARG1': 39}\n",
      "\n",
      "#-- Global measures --#\n",
      "Correct predictions: 649\n",
      "Total predictions: 1029\n",
      "Accuracy: 0.6307\n"
     ]
    }
   ],
   "source": [
    "#\n",
    "# Local (metrics per class)\n",
    "#\n",
    "labels = list(set(y_true))\n",
    "tps = {}\n",
    "fps = {}\n",
    "fns = {}\n",
    "for label in labels:\n",
    "    tps[label] = df.loc[label, label]\n",
    "    fps[label] = df[label].sum() - tps[label]\n",
    "    fns[label] = df.loc[label].sum() - tps[label]\n",
    "\n",
    "#\n",
    "# Global\n",
    "#\n",
    "micro_averages = {}\n",
    "macro_averages = {}\n",
    "\n",
    "correct_predictions = sum(tps.values())\n",
    "\n",
    "total_predictions = df.values.sum()\n",
    "accuracy_global = round(correct_predictions / total_predictions,4 ) if total_predictions > 0. else 0.\n",
    "\n",
    "print(\"#-- Local measures --#\")\n",
    "print(\"True Positives:\", tps)\n",
    "print(\"False Positives:\", fps)\n",
    "print(\"False Negatives:\", fns)\n",
    "\n",
    "print(\"\\n#-- Global measures --#\")\n",
    "print(\"Correct predictions:\", correct_predictions)\n",
    "print(\"Total predictions:\", total_predictions)\n",
    "print(\"Accuracy:\", accuracy_global)"
   ],
   "metadata": {
    "collapsed": false
   }
  },
  {
   "cell_type": "code",
   "execution_count": 6,
   "outputs": [
    {
     "name": "stdout",
     "output_type": "stream",
     "text": [
      "              precision    recall  f1-score   support\n",
      "\n",
      "      B-ARG0     0.7407    0.3922    0.5128        51\n",
      "      B-ARG1     0.2143    0.2353    0.2243        51\n",
      "         B-V     0.6000    0.5882    0.5941        51\n",
      "      I-ARG0     0.8333    0.4762    0.6061        84\n",
      "      I-ARG1     0.1923    0.4464    0.2688        56\n",
      "         I-V     0.0000    0.0000    0.0000        69\n",
      "           O     0.7280    0.7826    0.7543       667\n",
      "\n",
      "    accuracy                         0.6307      1029\n",
      "   macro avg     0.4727    0.4173    0.4229      1029\n",
      "weighted avg     0.6275    0.6307    0.6190      1029\n",
      "\n"
     ]
    }
   ],
   "source": [
    "from sklearn.metrics import classification_report, accuracy_score\n",
    "print(classification_report(y_true, y_pred, digits=4))"
   ],
   "metadata": {
    "collapsed": false
   }
  }
 ],
 "metadata": {
  "kernelspec": {
   "display_name": "Python 3",
   "language": "python",
   "name": "python3"
  },
  "language_info": {
   "codemirror_mode": {
    "name": "ipython",
    "version": 2
   },
   "file_extension": ".py",
   "mimetype": "text/x-python",
   "name": "python",
   "nbconvert_exporter": "python",
   "pygments_lexer": "ipython2",
   "version": "2.7.6"
  }
 },
 "nbformat": 4,
 "nbformat_minor": 0
}
