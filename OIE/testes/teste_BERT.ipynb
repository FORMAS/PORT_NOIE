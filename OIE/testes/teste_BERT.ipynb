{
 "cells": [
  {
   "cell_type": "code",
   "execution_count": 1,
   "outputs": [
    {
     "name": "stdout",
     "output_type": "stream",
     "text": [
      "#-- Local measures --#\n",
      "True Positives: {'B-ARG0': 28, 'B-ARG1': 11, 'I-ARG0': 35, 'I-V': 2, 'I-ARG1': 26, 'O': 499, 'B-V': 21}\n",
      "False Positives: {'B-ARG0': 5, 'B-ARG1': 16, 'I-ARG0': 0, 'I-V': 0, 'I-ARG1': 28, 'O': 93, 'B-V': 5}\n",
      "False Negatives: {'B-ARG0': 9, 'B-ARG1': 26, 'I-ARG0': 14, 'I-V': 38, 'I-ARG1': 23, 'O': 21, 'B-V': 16}\n",
      "\n",
      "#-- Global measures --#\n",
      "Correct predictions: 622\n",
      "Total predictions: 769\n",
      "Accuracy: 0.8088\n"
     ]
    }
   ],
   "source": [
    "import pandas as pd\n",
    "from sklearn.metrics import confusion_matrix\n",
    "\n",
    "MODEL_NAME = \"LSOIE++\"\n",
    "\n",
    "\n",
    "def get_dev_result(model_name: str):\n",
    "    model_path = \"..\\evaluations\\\\\" + model_name + \"_dev.txt\"\n",
    "    with open(model_path, \"r\", encoding=\"utf-8\") as f:\n",
    "        lines = f.readlines()\n",
    "        lines = [line.strip().split(\" \") for line in lines]\n",
    "        y_true = [line[1] for line in lines if len(line) == 3]\n",
    "        y_pred = [line[2] for line in lines if len(line) == 3]\n",
    "        return y_true, y_pred\n",
    "y_true, y_pred = get_dev_result(MODEL_NAME)\n",
    "\n",
    "def get_confusion_matrix(y_true, y_pred):\n",
    "    labels = list(set(y_true))\n",
    "    df = pd.DataFrame(\n",
    "        data=confusion_matrix(y_true, y_pred, labels=labels),\n",
    "        columns=labels,\n",
    "        index=labels,\n",
    "    )\n",
    "    df.index.name = \"Y-True\"\n",
    "    df.columns.name = \"Y-Pred\"\n",
    "    return df\n",
    "\n",
    "#\n",
    "# Local (metrics per class)\n",
    "#\n",
    "df = get_confusion_matrix(y_true, y_pred)\n",
    "\n",
    "labels = list(set(y_true))\n",
    "tps = {}\n",
    "fps = {}\n",
    "fns = {}\n",
    "for label in labels:\n",
    "    tps[label] = df.loc[label, label]\n",
    "    fps[label] = df[label].sum() - tps[label]\n",
    "    fns[label] = df.loc[label].sum() - tps[label]\n",
    "\n",
    "#\n",
    "# Global\n",
    "#\n",
    "micro_averages = {}\n",
    "macro_averages = {}\n",
    "\n",
    "correct_predictions = sum(tps.values())\n",
    "\n",
    "total_predictions = df.values.sum()\n",
    "accuracy_global = round(correct_predictions / total_predictions,4 ) if total_predictions > 0. else 0.\n",
    "\n",
    "print(\"#-- Local measures --#\")\n",
    "print(\"True Positives:\", tps)\n",
    "print(\"False Positives:\", fps)\n",
    "print(\"False Negatives:\", fns)\n",
    "\n",
    "print(\"\\n#-- Global measures --#\")\n",
    "print(\"Correct predictions:\", correct_predictions)\n",
    "print(\"Total predictions:\", total_predictions)\n",
    "print(\"Accuracy:\", accuracy_global)"
   ],
   "metadata": {
    "collapsed": false
   }
  },
  {
   "cell_type": "code",
   "execution_count": 2,
   "outputs": [
    {
     "name": "stdout",
     "output_type": "stream",
     "text": [
      "              precision    recall  f1-score   support\n",
      "\n",
      "      B-ARG0     0.8485    0.7568    0.8000        37\n",
      "      B-ARG1     0.4074    0.2973    0.3438        37\n",
      "         B-V     0.8077    0.5676    0.6667        37\n",
      "      I-ARG0     1.0000    0.7143    0.8333        49\n",
      "      I-ARG1     0.4815    0.5306    0.5049        49\n",
      "         I-V     1.0000    0.0500    0.0952        40\n",
      "           O     0.8429    0.9596    0.8975       520\n",
      "\n",
      "    accuracy                         0.8088       769\n",
      "   macro avg     0.7697    0.5537    0.5916       769\n",
      "weighted avg     0.8157    0.8088    0.7842       769\n",
      "\n"
     ]
    }
   ],
   "source": [
    "from sklearn.metrics import classification_report\n",
    "print(classification_report(y_true, y_pred, digits=4))"
   ],
   "metadata": {
    "collapsed": false
   }
  },
  {
   "cell_type": "code",
   "execution_count": 3,
   "outputs": [
    {
     "data": {
      "text/plain": "<pandas.io.formats.style.Styler at 0x18ca4ebcfd0>",
      "text/html": "<style type=\"text/css\">\n#T_6a680_row0_col0, #T_6a680_row2_col2, #T_6a680_row3_col1, #T_6a680_row3_col3, #T_6a680_row4_col4, #T_6a680_row5_col5, #T_6a680_row6_col6 {\n  background-color: #3f007d;\n  color: #f1f1f1;\n}\n#T_6a680_row0_col1, #T_6a680_row0_col2, #T_6a680_row0_col3, #T_6a680_row0_col4, #T_6a680_row0_col5, #T_6a680_row0_col6, #T_6a680_row1_col0, #T_6a680_row1_col2, #T_6a680_row1_col3, #T_6a680_row1_col6, #T_6a680_row2_col1, #T_6a680_row2_col3, #T_6a680_row2_col4, #T_6a680_row2_col5, #T_6a680_row2_col6, #T_6a680_row3_col0, #T_6a680_row3_col2, #T_6a680_row4_col0, #T_6a680_row4_col1, #T_6a680_row4_col2, #T_6a680_row4_col3, #T_6a680_row4_col6, #T_6a680_row5_col2, #T_6a680_row5_col3, #T_6a680_row6_col0, #T_6a680_row6_col1, #T_6a680_row6_col2, #T_6a680_row6_col3, #T_6a680_row6_col4 {\n  background-color: #fcfbfd;\n  color: #000000;\n}\n#T_6a680_row1_col1 {\n  background-color: #4d1a89;\n  color: #f1f1f1;\n}\n#T_6a680_row1_col4, #T_6a680_row3_col4 {\n  background-color: #cdcde4;\n  color: #000000;\n}\n#T_6a680_row1_col5 {\n  background-color: #faf9fc;\n  color: #000000;\n}\n#T_6a680_row2_col0 {\n  background-color: #f1eff6;\n  color: #000000;\n}\n#T_6a680_row3_col5, #T_6a680_row6_col5 {\n  background-color: #fbfafc;\n  color: #000000;\n}\n#T_6a680_row3_col6 {\n  background-color: #f2f0f7;\n  color: #000000;\n}\n#T_6a680_row4_col5 {\n  background-color: #f9f8fb;\n  color: #000000;\n}\n#T_6a680_row5_col0 {\n  background-color: #f5f3f8;\n  color: #000000;\n}\n#T_6a680_row5_col1 {\n  background-color: #c6c7e1;\n  color: #000000;\n}\n#T_6a680_row5_col4 {\n  background-color: #a7a4ce;\n  color: #f1f1f1;\n}\n#T_6a680_row5_col6 {\n  background-color: #ecebf4;\n  color: #000000;\n}\n</style>\n<table id=\"T_6a680\">\n  <thead>\n    <tr>\n      <th class=\"index_name level0\" >Y-Pred</th>\n      <th id=\"T_6a680_level0_col0\" class=\"col_heading level0 col0\" >B-ARG0</th>\n      <th id=\"T_6a680_level0_col1\" class=\"col_heading level0 col1\" >B-ARG1</th>\n      <th id=\"T_6a680_level0_col2\" class=\"col_heading level0 col2\" >I-ARG0</th>\n      <th id=\"T_6a680_level0_col3\" class=\"col_heading level0 col3\" >I-V</th>\n      <th id=\"T_6a680_level0_col4\" class=\"col_heading level0 col4\" >I-ARG1</th>\n      <th id=\"T_6a680_level0_col5\" class=\"col_heading level0 col5\" >O</th>\n      <th id=\"T_6a680_level0_col6\" class=\"col_heading level0 col6\" >B-V</th>\n    </tr>\n    <tr>\n      <th class=\"index_name level0\" >Y-True</th>\n      <th class=\"blank col0\" >&nbsp;</th>\n      <th class=\"blank col1\" >&nbsp;</th>\n      <th class=\"blank col2\" >&nbsp;</th>\n      <th class=\"blank col3\" >&nbsp;</th>\n      <th class=\"blank col4\" >&nbsp;</th>\n      <th class=\"blank col5\" >&nbsp;</th>\n      <th class=\"blank col6\" >&nbsp;</th>\n    </tr>\n  </thead>\n  <tbody>\n    <tr>\n      <th id=\"T_6a680_level0_row0\" class=\"row_heading level0 row0\" >B-ARG0</th>\n      <td id=\"T_6a680_row0_col0\" class=\"data row0 col0\" >28</td>\n      <td id=\"T_6a680_row0_col1\" class=\"data row0 col1\" >0</td>\n      <td id=\"T_6a680_row0_col2\" class=\"data row0 col2\" >0</td>\n      <td id=\"T_6a680_row0_col3\" class=\"data row0 col3\" >0</td>\n      <td id=\"T_6a680_row0_col4\" class=\"data row0 col4\" >0</td>\n      <td id=\"T_6a680_row0_col5\" class=\"data row0 col5\" >9</td>\n      <td id=\"T_6a680_row0_col6\" class=\"data row0 col6\" >0</td>\n    </tr>\n    <tr>\n      <th id=\"T_6a680_level0_row1\" class=\"row_heading level0 row1\" >B-ARG1</th>\n      <td id=\"T_6a680_row1_col0\" class=\"data row1 col0\" >0</td>\n      <td id=\"T_6a680_row1_col1\" class=\"data row1 col1\" >11</td>\n      <td id=\"T_6a680_row1_col2\" class=\"data row1 col2\" >0</td>\n      <td id=\"T_6a680_row1_col3\" class=\"data row1 col3\" >0</td>\n      <td id=\"T_6a680_row1_col4\" class=\"data row1 col4\" >8</td>\n      <td id=\"T_6a680_row1_col5\" class=\"data row1 col5\" >18</td>\n      <td id=\"T_6a680_row1_col6\" class=\"data row1 col6\" >0</td>\n    </tr>\n    <tr>\n      <th id=\"T_6a680_level0_row2\" class=\"row_heading level0 row2\" >I-ARG0</th>\n      <td id=\"T_6a680_row2_col0\" class=\"data row2 col0\" >3</td>\n      <td id=\"T_6a680_row2_col1\" class=\"data row2 col1\" >0</td>\n      <td id=\"T_6a680_row2_col2\" class=\"data row2 col2\" >35</td>\n      <td id=\"T_6a680_row2_col3\" class=\"data row2 col3\" >0</td>\n      <td id=\"T_6a680_row2_col4\" class=\"data row2 col4\" >0</td>\n      <td id=\"T_6a680_row2_col5\" class=\"data row2 col5\" >11</td>\n      <td id=\"T_6a680_row2_col6\" class=\"data row2 col6\" >0</td>\n    </tr>\n    <tr>\n      <th id=\"T_6a680_level0_row3\" class=\"row_heading level0 row3\" >I-V</th>\n      <td id=\"T_6a680_row3_col0\" class=\"data row3 col0\" >0</td>\n      <td id=\"T_6a680_row3_col1\" class=\"data row3 col1\" >12</td>\n      <td id=\"T_6a680_row3_col2\" class=\"data row3 col2\" >0</td>\n      <td id=\"T_6a680_row3_col3\" class=\"data row3 col3\" >2</td>\n      <td id=\"T_6a680_row3_col4\" class=\"data row3 col4\" >8</td>\n      <td id=\"T_6a680_row3_col5\" class=\"data row3 col5\" >16</td>\n      <td id=\"T_6a680_row3_col6\" class=\"data row3 col6\" >2</td>\n    </tr>\n    <tr>\n      <th id=\"T_6a680_level0_row4\" class=\"row_heading level0 row4\" >I-ARG1</th>\n      <td id=\"T_6a680_row4_col0\" class=\"data row4 col0\" >0</td>\n      <td id=\"T_6a680_row4_col1\" class=\"data row4 col1\" >0</td>\n      <td id=\"T_6a680_row4_col2\" class=\"data row4 col2\" >0</td>\n      <td id=\"T_6a680_row4_col3\" class=\"data row4 col3\" >0</td>\n      <td id=\"T_6a680_row4_col4\" class=\"data row4 col4\" >26</td>\n      <td id=\"T_6a680_row4_col5\" class=\"data row4 col5\" >23</td>\n      <td id=\"T_6a680_row4_col6\" class=\"data row4 col6\" >0</td>\n    </tr>\n    <tr>\n      <th id=\"T_6a680_level0_row5\" class=\"row_heading level0 row5\" >O</th>\n      <td id=\"T_6a680_row5_col0\" class=\"data row5 col0\" >2</td>\n      <td id=\"T_6a680_row5_col1\" class=\"data row5 col1\" >4</td>\n      <td id=\"T_6a680_row5_col2\" class=\"data row5 col2\" >0</td>\n      <td id=\"T_6a680_row5_col3\" class=\"data row5 col3\" >0</td>\n      <td id=\"T_6a680_row5_col4\" class=\"data row5 col4\" >12</td>\n      <td id=\"T_6a680_row5_col5\" class=\"data row5 col5\" >499</td>\n      <td id=\"T_6a680_row5_col6\" class=\"data row5 col6\" >3</td>\n    </tr>\n    <tr>\n      <th id=\"T_6a680_level0_row6\" class=\"row_heading level0 row6\" >B-V</th>\n      <td id=\"T_6a680_row6_col0\" class=\"data row6 col0\" >0</td>\n      <td id=\"T_6a680_row6_col1\" class=\"data row6 col1\" >0</td>\n      <td id=\"T_6a680_row6_col2\" class=\"data row6 col2\" >0</td>\n      <td id=\"T_6a680_row6_col3\" class=\"data row6 col3\" >0</td>\n      <td id=\"T_6a680_row6_col4\" class=\"data row6 col4\" >0</td>\n      <td id=\"T_6a680_row6_col5\" class=\"data row6 col5\" >16</td>\n      <td id=\"T_6a680_row6_col6\" class=\"data row6 col6\" >21</td>\n    </tr>\n  </tbody>\n</table>\n"
     },
     "execution_count": 3,
     "metadata": {},
     "output_type": "execute_result"
    }
   ],
   "source": [
    "df.style.background_gradient(cmap=\"Purples\")"
   ],
   "metadata": {
    "collapsed": false
   }
  },
  {
   "cell_type": "code",
   "execution_count": 27,
   "outputs": [
    {
     "name": "stderr",
     "output_type": "stream",
     "text": [
      "\n",
      "KeyboardInterrupt\n",
      "\n"
     ]
    }
   ],
   "source": [
    "from transformers import MarianMTModel, MarianTokenizer, pipeline\n",
    "\n",
    "pipe = pipeline(\"translation\", model=\"Helsinki-NLP/opus-mt-tc-big-en-pt\")\n",
    "sents = [\"The world is very big\", \"I am a student\", \"I am a teacher\", \"I live in Brazil\"]\n",
    "model_name = \"Helsinki-NLP/opus-mt-tc-big-en-pt\"\n",
    "tokenizer = MarianTokenizer.from_pretrained(model_name)\n",
    "model = MarianMTModel.from_pretrained(model_name)\n",
    "sent = \"The Olympic Games take place every four years.\"\n",
    "print(pipe(sent))"
   ],
   "metadata": {
    "collapsed": false
   }
  }
 ],
 "metadata": {
  "kernelspec": {
   "display_name": "Python 3",
   "language": "python",
   "name": "python3"
  },
  "language_info": {
   "codemirror_mode": {
    "name": "ipython",
    "version": 2
   },
   "file_extension": ".py",
   "mimetype": "text/x-python",
   "name": "python",
   "nbconvert_exporter": "python",
   "pygments_lexer": "ipython2",
   "version": "2.7.6"
  }
 },
 "nbformat": 4,
 "nbformat_minor": 0
}
