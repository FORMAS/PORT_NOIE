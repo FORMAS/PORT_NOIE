{
 "cells": [
  {
   "cell_type": "code",
   "execution_count": 7,
   "outputs": [
    {
     "name": "stdout",
     "output_type": "stream",
     "text": [
      "#-- Local measures --#\n",
      "True Positives: {'I-V': 19, 'O': 603, 'B-V': 33, 'I-ARG1': 24, 'B-ARG0': 35, 'I-ARG0': 55, 'B-ARG1': 18}\n",
      "False Positives: {'I-V': 8, 'O': 150, 'B-V': 7, 'I-ARG1': 46, 'B-ARG0': 7, 'I-ARG0': 7, 'B-ARG1': 17}\n",
      "False Negatives: {'I-V': 50, 'O': 64, 'B-V': 18, 'I-ARG1': 32, 'B-ARG0': 16, 'I-ARG0': 29, 'B-ARG1': 33}\n",
      "\n",
      "#-- Global measures --#\n",
      "Correct predictions: 787\n",
      "Total predictions: 1029\n",
      "Accuracy: 0.7648\n"
     ]
    }
   ],
   "source": [
    "import pandas as pd\n",
    "from sklearn.metrics import confusion_matrix\n",
    "\n",
    "MODEL_NAME = \"LSOIE++\"\n",
    "\n",
    "\n",
    "def get_dev_result(model_name: str):\n",
    "    model_path = \"..\\evaluations\\\\\" + model_name + \"_dev.txt\"\n",
    "    with open(model_path, \"r\", encoding=\"utf-8\") as f:\n",
    "        lines = f.readlines()\n",
    "        lines = [line.strip().split(\" \") for line in lines]\n",
    "        y_true = [line[1] for line in lines if len(line) == 3]\n",
    "        y_pred = [line[2] for line in lines if len(line) == 3]\n",
    "        return y_true, y_pred\n",
    "y_true, y_pred = get_dev_result(MODEL_NAME)\n",
    "\n",
    "def get_confusion_matrix(y_true, y_pred):\n",
    "    labels = list(set(y_true))\n",
    "    df = pd.DataFrame(\n",
    "        data=confusion_matrix(y_true, y_pred, labels=labels),\n",
    "        columns=labels,\n",
    "        index=labels,\n",
    "    )\n",
    "    df.index.name = \"Y-True\"\n",
    "    df.columns.name = \"Y-Pred\"\n",
    "    return df\n",
    "\n",
    "#\n",
    "# Local (metrics per class)\n",
    "#\n",
    "df = get_confusion_matrix(y_true, y_pred)\n",
    "\n",
    "labels = list(set(y_true))\n",
    "tps = {}\n",
    "fps = {}\n",
    "fns = {}\n",
    "for label in labels:\n",
    "    tps[label] = df.loc[label, label]\n",
    "    fps[label] = df[label].sum() - tps[label]\n",
    "    fns[label] = df.loc[label].sum() - tps[label]\n",
    "\n",
    "#\n",
    "# Global\n",
    "#\n",
    "micro_averages = {}\n",
    "macro_averages = {}\n",
    "\n",
    "correct_predictions = sum(tps.values())\n",
    "\n",
    "total_predictions = df.values.sum()\n",
    "accuracy_global = round(correct_predictions / total_predictions,4 ) if total_predictions > 0. else 0.\n",
    "\n",
    "print(\"#-- Local measures --#\")\n",
    "print(\"True Positives:\", tps)\n",
    "print(\"False Positives:\", fps)\n",
    "print(\"False Negatives:\", fns)\n",
    "\n",
    "print(\"\\n#-- Global measures --#\")\n",
    "print(\"Correct predictions:\", correct_predictions)\n",
    "print(\"Total predictions:\", total_predictions)\n",
    "print(\"Accuracy:\", accuracy_global)"
   ],
   "metadata": {
    "collapsed": false
   }
  },
  {
   "cell_type": "code",
   "execution_count": 8,
   "outputs": [
    {
     "name": "stdout",
     "output_type": "stream",
     "text": [
      "              precision    recall  f1-score   support\n",
      "\n",
      "      B-ARG0     0.8333    0.6863    0.7527        51\n",
      "      B-ARG1     0.5143    0.3529    0.4186        51\n",
      "         B-V     0.8250    0.6471    0.7253        51\n",
      "      I-ARG0     0.8871    0.6548    0.7534        84\n",
      "      I-ARG1     0.3429    0.4286    0.3810        56\n",
      "         I-V     0.7037    0.2754    0.3958        69\n",
      "           O     0.8008    0.9040    0.8493       667\n",
      "\n",
      "    accuracy                         0.7648      1029\n",
      "   macro avg     0.7010    0.5641    0.6109      1029\n",
      "weighted avg     0.7650    0.7648    0.7533      1029\n",
      "\n"
     ]
    }
   ],
   "source": [
    "from sklearn.metrics import classification_report\n",
    "print(classification_report(y_true, y_pred, digits=4))"
   ],
   "metadata": {
    "collapsed": false
   }
  },
  {
   "cell_type": "code",
   "execution_count": 9,
   "outputs": [
    {
     "data": {
      "text/plain": "<pandas.io.formats.style.Styler at 0x16cfa895160>",
      "text/html": "<style type=\"text/css\">\n#T_27a04_row0_col0, #T_27a04_row1_col1, #T_27a04_row1_col3, #T_27a04_row2_col2, #T_27a04_row4_col4, #T_27a04_row5_col5, #T_27a04_row6_col6 {\n  background-color: #3f007d;\n  color: #f1f1f1;\n}\n#T_27a04_row0_col1, #T_27a04_row0_col2, #T_27a04_row5_col2 {\n  background-color: #f9f8fb;\n  color: #000000;\n}\n#T_27a04_row0_col3 {\n  background-color: #dadaeb;\n  color: #000000;\n}\n#T_27a04_row0_col4, #T_27a04_row0_col5, #T_27a04_row2_col0, #T_27a04_row2_col1, #T_27a04_row2_col3, #T_27a04_row2_col4, #T_27a04_row2_col5, #T_27a04_row2_col6, #T_27a04_row3_col0, #T_27a04_row3_col2, #T_27a04_row3_col4, #T_27a04_row3_col5, #T_27a04_row3_col6, #T_27a04_row4_col0, #T_27a04_row4_col1, #T_27a04_row4_col2, #T_27a04_row4_col3, #T_27a04_row4_col5, #T_27a04_row4_col6, #T_27a04_row5_col0, #T_27a04_row5_col3, #T_27a04_row5_col6, #T_27a04_row6_col2, #T_27a04_row6_col4, #T_27a04_row6_col5 {\n  background-color: #fcfbfd;\n  color: #000000;\n}\n#T_27a04_row0_col6 {\n  background-color: #acaad1;\n  color: #000000;\n}\n#T_27a04_row1_col0 {\n  background-color: #bebedd;\n  color: #000000;\n}\n#T_27a04_row1_col2 {\n  background-color: #ebe9f3;\n  color: #000000;\n}\n#T_27a04_row1_col4 {\n  background-color: #f0eef6;\n  color: #000000;\n}\n#T_27a04_row1_col5 {\n  background-color: #efedf5;\n  color: #000000;\n}\n#T_27a04_row1_col6 {\n  background-color: #9e9ac8;\n  color: #f1f1f1;\n}\n#T_27a04_row3_col1 {\n  background-color: #faf8fb;\n  color: #000000;\n}\n#T_27a04_row3_col3 {\n  background-color: #6950a3;\n  color: #f1f1f1;\n}\n#T_27a04_row5_col1 {\n  background-color: #fbfafc;\n  color: #000000;\n}\n#T_27a04_row5_col4 {\n  background-color: #f3f2f8;\n  color: #000000;\n}\n#T_27a04_row6_col0 {\n  background-color: #f7f5fa;\n  color: #000000;\n}\n#T_27a04_row6_col1 {\n  background-color: #faf9fc;\n  color: #000000;\n}\n#T_27a04_row6_col3 {\n  background-color: #e4e3f0;\n  color: #000000;\n}\n</style>\n<table id=\"T_27a04\">\n  <thead>\n    <tr>\n      <th class=\"index_name level0\" >Y-Pred</th>\n      <th id=\"T_27a04_level0_col0\" class=\"col_heading level0 col0\" >I-V</th>\n      <th id=\"T_27a04_level0_col1\" class=\"col_heading level0 col1\" >O</th>\n      <th id=\"T_27a04_level0_col2\" class=\"col_heading level0 col2\" >B-V</th>\n      <th id=\"T_27a04_level0_col3\" class=\"col_heading level0 col3\" >I-ARG1</th>\n      <th id=\"T_27a04_level0_col4\" class=\"col_heading level0 col4\" >B-ARG0</th>\n      <th id=\"T_27a04_level0_col5\" class=\"col_heading level0 col5\" >I-ARG0</th>\n      <th id=\"T_27a04_level0_col6\" class=\"col_heading level0 col6\" >B-ARG1</th>\n    </tr>\n    <tr>\n      <th class=\"index_name level0\" >Y-True</th>\n      <th class=\"blank col0\" >&nbsp;</th>\n      <th class=\"blank col1\" >&nbsp;</th>\n      <th class=\"blank col2\" >&nbsp;</th>\n      <th class=\"blank col3\" >&nbsp;</th>\n      <th class=\"blank col4\" >&nbsp;</th>\n      <th class=\"blank col5\" >&nbsp;</th>\n      <th class=\"blank col6\" >&nbsp;</th>\n    </tr>\n  </thead>\n  <tbody>\n    <tr>\n      <th id=\"T_27a04_level0_row0\" class=\"row_heading level0 row0\" >I-V</th>\n      <td id=\"T_27a04_row0_col0\" class=\"data row0 col0\" >19</td>\n      <td id=\"T_27a04_row0_col1\" class=\"data row0 col1\" >33</td>\n      <td id=\"T_27a04_row0_col2\" class=\"data row0 col2\" >1</td>\n      <td id=\"T_27a04_row0_col3\" class=\"data row0 col3\" >8</td>\n      <td id=\"T_27a04_row0_col4\" class=\"data row0 col4\" >0</td>\n      <td id=\"T_27a04_row0_col5\" class=\"data row0 col5\" >0</td>\n      <td id=\"T_27a04_row0_col6\" class=\"data row0 col6\" >8</td>\n    </tr>\n    <tr>\n      <th id=\"T_27a04_level0_row1\" class=\"row_heading level0 row1\" >O</th>\n      <td id=\"T_27a04_row1_col0\" class=\"data row1 col0\" >7</td>\n      <td id=\"T_27a04_row1_col1\" class=\"data row1 col1\" >603</td>\n      <td id=\"T_27a04_row1_col2\" class=\"data row1 col2\" >5</td>\n      <td id=\"T_27a04_row1_col3\" class=\"data row1 col3\" >32</td>\n      <td id=\"T_27a04_row1_col4\" class=\"data row1 col4\" >4</td>\n      <td id=\"T_27a04_row1_col5\" class=\"data row1 col5\" >7</td>\n      <td id=\"T_27a04_row1_col6\" class=\"data row1 col6\" >9</td>\n    </tr>\n    <tr>\n      <th id=\"T_27a04_level0_row2\" class=\"row_heading level0 row2\" >B-V</th>\n      <td id=\"T_27a04_row2_col0\" class=\"data row2 col0\" >0</td>\n      <td id=\"T_27a04_row2_col1\" class=\"data row2 col1\" >18</td>\n      <td id=\"T_27a04_row2_col2\" class=\"data row2 col2\" >33</td>\n      <td id=\"T_27a04_row2_col3\" class=\"data row2 col3\" >0</td>\n      <td id=\"T_27a04_row2_col4\" class=\"data row2 col4\" >0</td>\n      <td id=\"T_27a04_row2_col5\" class=\"data row2 col5\" >0</td>\n      <td id=\"T_27a04_row2_col6\" class=\"data row2 col6\" >0</td>\n    </tr>\n    <tr>\n      <th id=\"T_27a04_level0_row3\" class=\"row_heading level0 row3\" >I-ARG1</th>\n      <td id=\"T_27a04_row3_col0\" class=\"data row3 col0\" >0</td>\n      <td id=\"T_27a04_row3_col1\" class=\"data row3 col1\" >32</td>\n      <td id=\"T_27a04_row3_col2\" class=\"data row3 col2\" >0</td>\n      <td id=\"T_27a04_row3_col3\" class=\"data row3 col3\" >24</td>\n      <td id=\"T_27a04_row3_col4\" class=\"data row3 col4\" >0</td>\n      <td id=\"T_27a04_row3_col5\" class=\"data row3 col5\" >0</td>\n      <td id=\"T_27a04_row3_col6\" class=\"data row3 col6\" >0</td>\n    </tr>\n    <tr>\n      <th id=\"T_27a04_level0_row4\" class=\"row_heading level0 row4\" >B-ARG0</th>\n      <td id=\"T_27a04_row4_col0\" class=\"data row4 col0\" >0</td>\n      <td id=\"T_27a04_row4_col1\" class=\"data row4 col1\" >16</td>\n      <td id=\"T_27a04_row4_col2\" class=\"data row4 col2\" >0</td>\n      <td id=\"T_27a04_row4_col3\" class=\"data row4 col3\" >0</td>\n      <td id=\"T_27a04_row4_col4\" class=\"data row4 col4\" >35</td>\n      <td id=\"T_27a04_row4_col5\" class=\"data row4 col5\" >0</td>\n      <td id=\"T_27a04_row4_col6\" class=\"data row4 col6\" >0</td>\n    </tr>\n    <tr>\n      <th id=\"T_27a04_level0_row5\" class=\"row_heading level0 row5\" >I-ARG0</th>\n      <td id=\"T_27a04_row5_col0\" class=\"data row5 col0\" >0</td>\n      <td id=\"T_27a04_row5_col1\" class=\"data row5 col1\" >25</td>\n      <td id=\"T_27a04_row5_col2\" class=\"data row5 col2\" >1</td>\n      <td id=\"T_27a04_row5_col3\" class=\"data row5 col3\" >0</td>\n      <td id=\"T_27a04_row5_col4\" class=\"data row5 col4\" >3</td>\n      <td id=\"T_27a04_row5_col5\" class=\"data row5 col5\" >55</td>\n      <td id=\"T_27a04_row5_col6\" class=\"data row5 col6\" >0</td>\n    </tr>\n    <tr>\n      <th id=\"T_27a04_level0_row6\" class=\"row_heading level0 row6\" >B-ARG1</th>\n      <td id=\"T_27a04_row6_col0\" class=\"data row6 col0\" >1</td>\n      <td id=\"T_27a04_row6_col1\" class=\"data row6 col1\" >26</td>\n      <td id=\"T_27a04_row6_col2\" class=\"data row6 col2\" >0</td>\n      <td id=\"T_27a04_row6_col3\" class=\"data row6 col3\" >6</td>\n      <td id=\"T_27a04_row6_col4\" class=\"data row6 col4\" >0</td>\n      <td id=\"T_27a04_row6_col5\" class=\"data row6 col5\" >0</td>\n      <td id=\"T_27a04_row6_col6\" class=\"data row6 col6\" >18</td>\n    </tr>\n  </tbody>\n</table>\n"
     },
     "execution_count": 9,
     "metadata": {},
     "output_type": "execute_result"
    }
   ],
   "source": [
    "df.style.background_gradient(cmap=\"Purples\")"
   ],
   "metadata": {
    "collapsed": false
   }
  },
  {
   "cell_type": "code",
   "execution_count": 27,
   "outputs": [
    {
     "name": "stderr",
     "output_type": "stream",
     "text": [
      "\n",
      "KeyboardInterrupt\n",
      "\n"
     ]
    }
   ],
   "source": [
    "from transformers import MarianMTModel, MarianTokenizer, pipeline\n",
    "\n",
    "pipe = pipeline(\"translation\", model=\"Helsinki-NLP/opus-mt-tc-big-en-pt\")\n",
    "sents = [\"The world is very big\", \"I am a student\", \"I am a teacher\", \"I live in Brazil\"]\n",
    "model_name = \"Helsinki-NLP/opus-mt-tc-big-en-pt\"\n",
    "tokenizer = MarianTokenizer.from_pretrained(model_name)\n",
    "model = MarianMTModel.from_pretrained(model_name)\n",
    "sent = \"The Olympic Games take place every four years.\"\n",
    "print(pipe(sent))"
   ],
   "metadata": {
    "collapsed": false
   }
  }
 ],
 "metadata": {
  "kernelspec": {
   "display_name": "Python 3",
   "language": "python",
   "name": "python3"
  },
  "language_info": {
   "codemirror_mode": {
    "name": "ipython",
    "version": 2
   },
   "file_extension": ".py",
   "mimetype": "text/x-python",
   "name": "python",
   "nbconvert_exporter": "python",
   "pygments_lexer": "ipython2",
   "version": "2.7.6"
  }
 },
 "nbformat": 4,
 "nbformat_minor": 0
}
