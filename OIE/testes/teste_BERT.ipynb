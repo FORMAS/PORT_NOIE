{
 "cells": [
  {
   "cell_type": "code",
   "execution_count": 16,
   "outputs": [
    {
     "name": "stdout",
     "output_type": "stream",
     "text": [
      "#-- Local measures --#\n",
      "True Positives: {'B-V': 26, 'O': 579, 'I-ARG1': 20, 'B-ARG1': 15, 'I-ARG0': 53, 'I-V': 0, 'B-ARG0': 38}\n",
      "False Positives: {'B-V': 15, 'O': 149, 'I-ARG1': 71, 'B-ARG1': 35, 'I-ARG0': 13, 'I-V': 0, 'B-ARG0': 15}\n",
      "False Negatives: {'B-V': 25, 'O': 88, 'I-ARG1': 36, 'B-ARG1': 36, 'I-ARG0': 31, 'I-V': 69, 'B-ARG0': 13}\n",
      "\n",
      "#-- Global measures --#\n",
      "Correct predictions: 731\n",
      "Total predictions: 1029\n",
      "Accuracy: 0.7104\n"
     ]
    }
   ],
   "source": [
    "import pandas as pd\n",
    "from sklearn.metrics import confusion_matrix\n",
    "\n",
    "MODEL_NAME = \"LSOIE\"\n",
    "\n",
    "\n",
    "def get_dev_result(model_name: str):\n",
    "    model_path = \"..\\evaluations\\\\\" + model_name + \"_dev.txt\"\n",
    "    with open(model_path, \"r\", encoding=\"utf-8\") as f:\n",
    "        lines = f.readlines()\n",
    "        lines = [line.strip().split(\" \") for line in lines]\n",
    "        y_true = [line[1] for line in lines if len(line) == 3]\n",
    "        y_pred = [line[2] for line in lines if len(line) == 3]\n",
    "        return y_true, y_pred\n",
    "y_true, y_pred = get_dev_result(MODEL_NAME)\n",
    "\n",
    "def get_confusion_matrix(y_true, y_pred):\n",
    "    labels = list(set(y_true))\n",
    "    df = pd.DataFrame(\n",
    "        data=confusion_matrix(y_true, y_pred, labels=labels),\n",
    "        columns=labels,\n",
    "        index=labels,\n",
    "    )\n",
    "    df.index.name = \"Y-True\"\n",
    "    df.columns.name = \"Y-Pred\"\n",
    "    return df\n",
    "\n",
    "#\n",
    "# Local (metrics per class)\n",
    "#\n",
    "df = get_confusion_matrix(y_true, y_pred)\n",
    "\n",
    "labels = list(set(y_true))\n",
    "tps = {}\n",
    "fps = {}\n",
    "fns = {}\n",
    "for label in labels:\n",
    "    tps[label] = df.loc[label, label]\n",
    "    fps[label] = df[label].sum() - tps[label]\n",
    "    fns[label] = df.loc[label].sum() - tps[label]\n",
    "\n",
    "#\n",
    "# Global\n",
    "#\n",
    "micro_averages = {}\n",
    "macro_averages = {}\n",
    "\n",
    "correct_predictions = sum(tps.values())\n",
    "\n",
    "total_predictions = df.values.sum()\n",
    "accuracy_global = round(correct_predictions / total_predictions,4 ) if total_predictions > 0. else 0.\n",
    "\n",
    "print(\"#-- Local measures --#\")\n",
    "print(\"True Positives:\", tps)\n",
    "print(\"False Positives:\", fps)\n",
    "print(\"False Negatives:\", fns)\n",
    "\n",
    "print(\"\\n#-- Global measures --#\")\n",
    "print(\"Correct predictions:\", correct_predictions)\n",
    "print(\"Total predictions:\", total_predictions)\n",
    "print(\"Accuracy:\", accuracy_global)"
   ],
   "metadata": {
    "collapsed": false
   }
  },
  {
   "cell_type": "code",
   "execution_count": 18,
   "outputs": [
    {
     "name": "stdout",
     "output_type": "stream",
     "text": [
      "              precision    recall  f1-score   support\n",
      "\n",
      "      B-ARG0     0.7170    0.7451    0.7308        51\n",
      "      B-ARG1     0.3000    0.2941    0.2970        51\n",
      "         B-V     0.6341    0.5098    0.5652        51\n",
      "      I-ARG0     0.8030    0.6310    0.7067        84\n",
      "      I-ARG1     0.2198    0.3571    0.2721        56\n",
      "         I-V     0.0000    0.0000    0.0000        69\n",
      "           O     0.7953    0.8681    0.8301       667\n",
      "\n",
      "    accuracy                         0.7104      1029\n",
      "   macro avg     0.4956    0.4865    0.4860      1029\n",
      "weighted avg     0.6749    0.7104    0.6895      1029\n",
      "\n"
     ]
    },
    {
     "name": "stderr",
     "output_type": "stream",
     "text": [
      "E:\\poetry\\venvs\\flair-oie-_ETNQf08-py3.9\\lib\\site-packages\\sklearn\\metrics\\_classification.py:1344: UndefinedMetricWarning: Precision and F-score are ill-defined and being set to 0.0 in labels with no predicted samples. Use `zero_division` parameter to control this behavior.\n",
      "  _warn_prf(average, modifier, msg_start, len(result))\n",
      "E:\\poetry\\venvs\\flair-oie-_ETNQf08-py3.9\\lib\\site-packages\\sklearn\\metrics\\_classification.py:1344: UndefinedMetricWarning: Precision and F-score are ill-defined and being set to 0.0 in labels with no predicted samples. Use `zero_division` parameter to control this behavior.\n",
      "  _warn_prf(average, modifier, msg_start, len(result))\n",
      "E:\\poetry\\venvs\\flair-oie-_ETNQf08-py3.9\\lib\\site-packages\\sklearn\\metrics\\_classification.py:1344: UndefinedMetricWarning: Precision and F-score are ill-defined and being set to 0.0 in labels with no predicted samples. Use `zero_division` parameter to control this behavior.\n",
      "  _warn_prf(average, modifier, msg_start, len(result))\n"
     ]
    }
   ],
   "source": [
    "from sklearn.metrics import classification_report\n",
    "print(classification_report(y_true, y_pred, digits=4))"
   ],
   "metadata": {
    "collapsed": false
   }
  },
  {
   "cell_type": "code",
   "execution_count": 15,
   "outputs": [
    {
     "data": {
      "text/plain": "<pandas.io.formats.style.Styler at 0x260f5d0bdc0>",
      "text/html": "<style type=\"text/css\">\n#T_d96e5_row0_col0, #T_d96e5_row1_col1, #T_d96e5_row2_col2, #T_d96e5_row3_col3, #T_d96e5_row4_col4, #T_d96e5_row5_col5, #T_d96e5_row6_col6 {\n  background-color: #3f007d;\n  color: #f1f1f1;\n}\n#T_d96e5_row0_col1 {\n  background-color: #fbfafc;\n  color: #000000;\n}\n#T_d96e5_row0_col2, #T_d96e5_row0_col3, #T_d96e5_row0_col4, #T_d96e5_row0_col5, #T_d96e5_row2_col0, #T_d96e5_row2_col3, #T_d96e5_row2_col4, #T_d96e5_row2_col6, #T_d96e5_row3_col0, #T_d96e5_row3_col4, #T_d96e5_row4_col5, #T_d96e5_row5_col4, #T_d96e5_row5_col6, #T_d96e5_row6_col0, #T_d96e5_row6_col1, #T_d96e5_row6_col2, #T_d96e5_row6_col3, #T_d96e5_row6_col4, #T_d96e5_row6_col5 {\n  background-color: #fcfbfd;\n  color: #000000;\n}\n#T_d96e5_row0_col6, #T_d96e5_row3_col6 {\n  background-color: #faf9fc;\n  color: #000000;\n}\n#T_d96e5_row1_col0 {\n  background-color: #e6e5f1;\n  color: #000000;\n}\n#T_d96e5_row1_col2 {\n  background-color: #552a90;\n  color: #f1f1f1;\n}\n#T_d96e5_row1_col3 {\n  background-color: #b3b3d6;\n  color: #000000;\n}\n#T_d96e5_row1_col4 {\n  background-color: #e4e3f0;\n  color: #000000;\n}\n#T_d96e5_row1_col5 {\n  background-color: #dfdfed;\n  color: #000000;\n}\n#T_d96e5_row1_col6, #T_d96e5_row4_col6 {\n  background-color: #cecee5;\n  color: #000000;\n}\n#T_d96e5_row2_col1, #T_d96e5_row4_col1 {\n  background-color: #f9f7fb;\n  color: #000000;\n}\n#T_d96e5_row2_col5 {\n  background-color: #796eb2;\n  color: #f1f1f1;\n}\n#T_d96e5_row3_col1 {\n  background-color: #faf8fb;\n  color: #000000;\n}\n#T_d96e5_row3_col2 {\n  background-color: #dedded;\n  color: #000000;\n}\n#T_d96e5_row3_col5 {\n  background-color: #908dc2;\n  color: #f1f1f1;\n}\n#T_d96e5_row4_col0 {\n  background-color: #f9f8fb;\n  color: #000000;\n}\n#T_d96e5_row4_col2 {\n  background-color: #f8f6fa;\n  color: #000000;\n}\n#T_d96e5_row4_col3 {\n  background-color: #f6f4f9;\n  color: #000000;\n}\n#T_d96e5_row5_col0 {\n  background-color: #ebe9f3;\n  color: #000000;\n}\n#T_d96e5_row5_col1 {\n  background-color: #f7f6fa;\n  color: #000000;\n}\n#T_d96e5_row5_col2 {\n  background-color: #d5d5e9;\n  color: #000000;\n}\n#T_d96e5_row5_col3 {\n  background-color: #7c75b6;\n  color: #f1f1f1;\n}\n</style>\n<table id=\"T_d96e5\">\n  <thead>\n    <tr>\n      <th class=\"index_name level0\" >Y-Pred</th>\n      <th id=\"T_d96e5_level0_col0\" class=\"col_heading level0 col0\" >B-V</th>\n      <th id=\"T_d96e5_level0_col1\" class=\"col_heading level0 col1\" >O</th>\n      <th id=\"T_d96e5_level0_col2\" class=\"col_heading level0 col2\" >I-ARG1</th>\n      <th id=\"T_d96e5_level0_col3\" class=\"col_heading level0 col3\" >B-ARG1</th>\n      <th id=\"T_d96e5_level0_col4\" class=\"col_heading level0 col4\" >I-ARG0</th>\n      <th id=\"T_d96e5_level0_col5\" class=\"col_heading level0 col5\" >I-V</th>\n      <th id=\"T_d96e5_level0_col6\" class=\"col_heading level0 col6\" >B-ARG0</th>\n    </tr>\n    <tr>\n      <th class=\"index_name level0\" >Y-True</th>\n      <th class=\"blank col0\" >&nbsp;</th>\n      <th class=\"blank col1\" >&nbsp;</th>\n      <th class=\"blank col2\" >&nbsp;</th>\n      <th class=\"blank col3\" >&nbsp;</th>\n      <th class=\"blank col4\" >&nbsp;</th>\n      <th class=\"blank col5\" >&nbsp;</th>\n      <th class=\"blank col6\" >&nbsp;</th>\n    </tr>\n  </thead>\n  <tbody>\n    <tr>\n      <th id=\"T_d96e5_level0_row0\" class=\"row_heading level0 row0\" >B-V</th>\n      <td id=\"T_d96e5_row0_col0\" class=\"data row0 col0\" >33</td>\n      <td id=\"T_d96e5_row0_col1\" class=\"data row0 col1\" >17</td>\n      <td id=\"T_d96e5_row0_col2\" class=\"data row0 col2\" >0</td>\n      <td id=\"T_d96e5_row0_col3\" class=\"data row0 col3\" >0</td>\n      <td id=\"T_d96e5_row0_col4\" class=\"data row0 col4\" >0</td>\n      <td id=\"T_d96e5_row0_col5\" class=\"data row0 col5\" >0</td>\n      <td id=\"T_d96e5_row0_col6\" class=\"data row0 col6\" >1</td>\n    </tr>\n    <tr>\n      <th id=\"T_d96e5_level0_row1\" class=\"row_heading level0 row1\" >O</th>\n      <td id=\"T_d96e5_row1_col0\" class=\"data row1 col0\" >6</td>\n      <td id=\"T_d96e5_row1_col1\" class=\"data row1 col1\" >612</td>\n      <td id=\"T_d96e5_row1_col2\" class=\"data row1 col2\" >19</td>\n      <td id=\"T_d96e5_row1_col3\" class=\"data row1 col3\" >7</td>\n      <td id=\"T_d96e5_row1_col4\" class=\"data row1 col4\" >8</td>\n      <td id=\"T_d96e5_row1_col5\" class=\"data row1 col5\" >2</td>\n      <td id=\"T_d96e5_row1_col6\" class=\"data row1 col6\" >13</td>\n    </tr>\n    <tr>\n      <th id=\"T_d96e5_level0_row2\" class=\"row_heading level0 row2\" >I-ARG1</th>\n      <td id=\"T_d96e5_row2_col0\" class=\"data row2 col0\" >0</td>\n      <td id=\"T_d96e5_row2_col1\" class=\"data row2 col1\" >28</td>\n      <td id=\"T_d96e5_row2_col2\" class=\"data row2 col2\" >22</td>\n      <td id=\"T_d96e5_row2_col3\" class=\"data row2 col3\" >0</td>\n      <td id=\"T_d96e5_row2_col4\" class=\"data row2 col4\" >0</td>\n      <td id=\"T_d96e5_row2_col5\" class=\"data row2 col5\" >6</td>\n      <td id=\"T_d96e5_row2_col6\" class=\"data row2 col6\" >0</td>\n    </tr>\n    <tr>\n      <th id=\"T_d96e5_level0_row3\" class=\"row_heading level0 row3\" >B-ARG1</th>\n      <td id=\"T_d96e5_row3_col0\" class=\"data row3 col0\" >0</td>\n      <td id=\"T_d96e5_row3_col1\" class=\"data row3 col1\" >23</td>\n      <td id=\"T_d96e5_row3_col2\" class=\"data row3 col2\" >5</td>\n      <td id=\"T_d96e5_row3_col3\" class=\"data row3 col3\" >17</td>\n      <td id=\"T_d96e5_row3_col4\" class=\"data row3 col4\" >0</td>\n      <td id=\"T_d96e5_row3_col5\" class=\"data row3 col5\" >5</td>\n      <td id=\"T_d96e5_row3_col6\" class=\"data row3 col6\" >1</td>\n    </tr>\n    <tr>\n      <th id=\"T_d96e5_level0_row4\" class=\"row_heading level0 row4\" >I-ARG0</th>\n      <td id=\"T_d96e5_row4_col0\" class=\"data row4 col0\" >1</td>\n      <td id=\"T_d96e5_row4_col1\" class=\"data row4 col1\" >27</td>\n      <td id=\"T_d96e5_row4_col2\" class=\"data row4 col2\" >1</td>\n      <td id=\"T_d96e5_row4_col3\" class=\"data row4 col3\" >1</td>\n      <td id=\"T_d96e5_row4_col4\" class=\"data row4 col4\" >41</td>\n      <td id=\"T_d96e5_row4_col5\" class=\"data row4 col5\" >0</td>\n      <td id=\"T_d96e5_row4_col6\" class=\"data row4 col6\" >13</td>\n    </tr>\n    <tr>\n      <th id=\"T_d96e5_level0_row5\" class=\"row_heading level0 row5\" >I-V</th>\n      <td id=\"T_d96e5_row5_col0\" class=\"data row5 col0\" >5</td>\n      <td id=\"T_d96e5_row5_col1\" class=\"data row5 col1\" >38</td>\n      <td id=\"T_d96e5_row5_col2\" class=\"data row5 col2\" >6</td>\n      <td id=\"T_d96e5_row5_col3\" class=\"data row5 col3\" >11</td>\n      <td id=\"T_d96e5_row5_col4\" class=\"data row5 col4\" >0</td>\n      <td id=\"T_d96e5_row5_col5\" class=\"data row5 col5\" >9</td>\n      <td id=\"T_d96e5_row5_col6\" class=\"data row5 col6\" >0</td>\n    </tr>\n    <tr>\n      <th id=\"T_d96e5_level0_row6\" class=\"row_heading level0 row6\" >B-ARG0</th>\n      <td id=\"T_d96e5_row6_col0\" class=\"data row6 col0\" >0</td>\n      <td id=\"T_d96e5_row6_col1\" class=\"data row6 col1\" >8</td>\n      <td id=\"T_d96e5_row6_col2\" class=\"data row6 col2\" >0</td>\n      <td id=\"T_d96e5_row6_col3\" class=\"data row6 col3\" >0</td>\n      <td id=\"T_d96e5_row6_col4\" class=\"data row6 col4\" >0</td>\n      <td id=\"T_d96e5_row6_col5\" class=\"data row6 col5\" >0</td>\n      <td id=\"T_d96e5_row6_col6\" class=\"data row6 col6\" >43</td>\n    </tr>\n  </tbody>\n</table>\n"
     },
     "execution_count": 15,
     "metadata": {},
     "output_type": "execute_result"
    }
   ],
   "source": [
    "df.style.background_gradient(cmap=\"Purples\")"
   ],
   "metadata": {
    "collapsed": false
   }
  },
  {
   "cell_type": "code",
   "execution_count": 40,
   "outputs": [
    {
     "name": "stderr",
     "output_type": "stream",
     "text": [
      "E:\\poetry\\venvs\\flair-oie-_ETNQf08-py3.9\\lib\\site-packages\\transformers\\models\\marian\\tokenization_marian.py:194: UserWarning: Recommended: pip install sacremoses.\n",
      "  warnings.warn(\"Recommended: pip install sacremoses.\")\n"
     ]
    },
    {
     "name": "stdout",
     "output_type": "stream",
     "text": [
      "[{'translation_text': 'Os Jogos Olímpicos acontecem a cada quatro anos.'}]\n"
     ]
    }
   ],
   "source": [
    "from transformers import MarianMTModel, MarianTokenizer, pipeline\n",
    "\n",
    "pipe = pipeline(\"translation\", model=\"Helsinki-NLP/opus-mt-tc-big-en-pt\")\n",
    "sents = [\"The world is very big\", \"I am a student\", \"I am a teacher\", \"I live in Brazil\"]\n",
    "model_name = \"Helsinki-NLP/opus-mt-tc-big-en-pt\"\n",
    "tokenizer = MarianTokenizer.from_pretrained(model_name)\n",
    "model = MarianMTModel.from_pretrained(model_name)\n",
    "sent = \"The Olympic Games take place every four years.\"\n",
    "print(pipe(sent))"
   ],
   "metadata": {
    "collapsed": false
   }
  }
 ],
 "metadata": {
  "kernelspec": {
   "display_name": "Python 3",
   "language": "python",
   "name": "python3"
  },
  "language_info": {
   "codemirror_mode": {
    "name": "ipython",
    "version": 2
   },
   "file_extension": ".py",
   "mimetype": "text/x-python",
   "name": "python",
   "nbconvert_exporter": "python",
   "pygments_lexer": "ipython2",
   "version": "2.7.6"
  }
 },
 "nbformat": 4,
 "nbformat_minor": 0
}
