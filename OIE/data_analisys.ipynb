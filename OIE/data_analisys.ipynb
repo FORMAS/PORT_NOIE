{
 "cells": [
  {
   "cell_type": "code",
   "execution_count": 1,
   "id": "initial_id",
   "metadata": {
    "collapsed": true,
    "ExecuteTime": {
     "end_time": "2023-09-18T05:30:37.816327800Z",
     "start_time": "2023-09-18T05:30:34.187333800Z"
    }
   },
   "outputs": [],
   "source": [
    "import matplotlib.pyplot as plt\n",
    "\n",
    "from dataset.dataset import get_dataset\n",
    "import pandas as pd\n",
    "import numpy as np\n",
    "import matplotlib.pyplot as plt\n",
    "import spacy"
   ]
  },
  {
   "cell_type": "code",
   "execution_count": 2,
   "outputs": [],
   "source": [
    "nlp = spacy.load(\"pt_core_news_lg\")"
   ],
   "metadata": {
    "collapsed": false,
    "ExecuteTime": {
     "end_time": "2023-09-18T05:30:38.716454400Z",
     "start_time": "2023-09-18T05:30:37.817327400Z"
    }
   },
   "id": "f4a85de5af59e3e7"
  },
  {
   "cell_type": "code",
   "execution_count": 3,
   "outputs": [],
   "source": [
    "def load_dataset(): \n",
    "    dataset = get_dataset()\n",
    "    extractions = {}\n",
    "    i = 0\n",
    "    split = 0\n",
    "    while split<=1:\n",
    "        for triple in dataset[split]:\n",
    "            sent = triple.phrase\n",
    "            sent_counter = 0\n",
    "            for token in nlp(sent):\n",
    "                sent_counter += 1\n",
    "                \n",
    "            ext = triple.gold_extractions[0]\n",
    "            merged = ext.arg0 + \" \" + ext.rel + \" \" + ext.arg1\n",
    "            ext_counter = 0\n",
    "            for token in nlp(merged):\n",
    "                ext_counter += 1\n",
    "                \n",
    "            ext = {\"length\" : ext_counter,\n",
    "                   \"merged\": merged,\n",
    "                   \"splited\" : {\n",
    "                       \"arg0\" : ext.arg0,\n",
    "                       \"rel\" : ext.rel,\n",
    "                       \"arg1\" : ext.arg1\n",
    "                        }\n",
    "                   }\n",
    "            extractions[i] = {\"sent\" : {\"sent\" : sent,\n",
    "                                        \"length\" : sent_counter\n",
    "                                        },\n",
    "                              \"ext\" : ext}\n",
    "            i+=1\n",
    "        split+=1\n",
    "    return extractions"
   ],
   "metadata": {
    "collapsed": false,
    "ExecuteTime": {
     "end_time": "2023-09-18T05:30:38.732075100Z",
     "start_time": "2023-09-18T05:30:38.718453200Z"
    }
   },
   "id": "c211adf3f2a0cd5d"
  },
  {
   "cell_type": "code",
   "execution_count": 4,
   "outputs": [
    {
     "name": "stderr",
     "output_type": "stream",
     "text": [
      "processando TA_train: 100%|██████████| 80411/80411 [06:45<00:00, 198.45it/s]\n",
      "processando TA_dev: 100%|██████████| 927/927 [00:04<00:00, 192.89it/s]\n"
     ]
    },
    {
     "data": {
      "text/plain": "{'sent': {'sent': 'Drew Barrymore é sobrinha de Diana Barrymore .',\n  'length': 8},\n 'ext': {'length': 7,\n  'merged': 'Drew Barrymore é sobrinha de Diana Barrymore',\n  'splited': {'arg0': 'Drew Barrymore',\n   'rel': 'é sobrinha de',\n   'arg1': 'Diana Barrymore'}}}"
     },
     "execution_count": 4,
     "metadata": {},
     "output_type": "execute_result"
    }
   ],
   "source": [
    "dataset = load_dataset()\n",
    "dataset[0]"
   ],
   "metadata": {
    "collapsed": false,
    "ExecuteTime": {
     "end_time": "2023-09-18T05:49:10.552549300Z",
     "start_time": "2023-09-18T05:30:38.733077600Z"
    }
   },
   "id": "3a0b98248ce982e9"
  },
  {
   "cell_type": "code",
   "execution_count": 12,
   "outputs": [],
   "source": [
    "same_string_extractions = {}\n",
    "minimum_extractions = {}\n",
    "small_extractions = {}\n",
    "long_extractions = {}\n",
    "small_sentences = {}\n",
    "\n",
    "long_sentences = {}\n",
    "long_sentece_small_extractions = {}\n",
    "\n",
    "for key in dataset:\n",
    "    inst = dataset[key]\n",
    "    sent_len = inst[\"sent\"][\"length\"]\n",
    "    ext_len = inst[\"ext\"][\"length\"]\n",
    "    if sent_len-1 == ext_len or sent_len == ext_len:\n",
    "        same_string_extractions[key] = inst\n",
    "    if ext_len > 8:\n",
    "        long_extractions[key] = inst\n",
    "    if ext_len == 3:\n",
    "        minimum_extractions[key] = inst\n",
    "    if sent_len < 15:\n",
    "        small_sentences[key] = inst\n",
    "    if ext_len > 3 and ext_len <=8:\n",
    "        small_extractions[key] = inst\n",
    "    "
   ],
   "metadata": {
    "collapsed": false,
    "ExecuteTime": {
     "end_time": "2023-09-18T05:58:30.513159900Z",
     "start_time": "2023-09-18T05:58:30.411609500Z"
    }
   },
   "id": "54ec3545a1ab79e2"
  },
  {
   "cell_type": "code",
   "execution_count": null,
   "outputs": [],
   "source": [
    "small_extractions"
   ],
   "metadata": {
    "collapsed": false,
    "ExecuteTime": {
     "start_time": "2023-09-18T05:30:06.808760800Z"
    }
   },
   "id": "d38dae7078a6397c"
  },
  {
   "cell_type": "code",
   "execution_count": 13,
   "outputs": [
    {
     "name": "stdout",
     "output_type": "stream",
     "text": [
      "extractions with same sentence length:  13188\n",
      "extractions with one tag on arg0, one on rel and one on arg1:  760\n",
      "small extractions, token counter <= 6:  30897\n",
      "long extractions, token counter > 6:  49680\n"
     ]
    }
   ],
   "source": [
    "print(\"extractions with same sentence length: \",len(same_string_extractions))\n",
    "print(\"extractions with one tag on arg0, one on rel and one on arg1: \", len(minimum_extractions))\n",
    "print(\"small extractions, token counter <= 8: \", len(small_extractions))\n",
    "print(\"long extractions, token counter > 8: \", len(long_extractions))"
   ],
   "metadata": {
    "collapsed": false,
    "ExecuteTime": {
     "end_time": "2023-09-18T05:58:32.419410400Z",
     "start_time": "2023-09-18T05:58:32.401896800Z"
    }
   },
   "id": "bd0105aa622260f8"
  },
  {
   "cell_type": "code",
   "execution_count": 7,
   "outputs": [
    {
     "data": {
      "text/plain": "<Figure size 640x480 with 1 Axes>",
      "image/png": "[encoded data removed]"
     },
     "metadata": {},
     "output_type": "display_data"
    }
   ],
   "source": [
    "import seaborn as sns\n",
    "y = [len(same_string_extractions), len(minimum_extractions), len(small_extractions)]\n",
    "bar = sns.barplot(x = [0,1,2],y=y)"
   ],
   "metadata": {
    "collapsed": false,
    "ExecuteTime": {
     "end_time": "2023-09-18T05:49:10.781968900Z",
     "start_time": "2023-09-18T05:49:10.659862300Z"
    }
   },
   "id": "1052eeab1c645bd0"
  }
 ],
 "metadata": {
  "kernelspec": {
   "display_name": "Python 3",
   "language": "python",
   "name": "python3"
  },
  "language_info": {
   "codemirror_mode": {
    "name": "ipython",
    "version": 2
   },
   "file_extension": ".py",
   "mimetype": "text/x-python",
   "name": "python",
   "nbconvert_exporter": "python",
   "pygments_lexer": "ipython2",
   "version": "2.7.6"
  }
 },
 "nbformat": 4,
 "nbformat_minor": 5
}
